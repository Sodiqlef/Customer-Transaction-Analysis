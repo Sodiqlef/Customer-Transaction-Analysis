{
 "cells": [
  {
   "cell_type": "code",
   "execution_count": 7,
   "id": "4f9c98ac",
   "metadata": {},
   "outputs": [],
   "source": [
    "import warnings\n",
    "import pandas as pd\n",
    "\n",
    "from pandas_gbq import read_gbq\n"
   ]
  },
  {
   "cell_type": "code",
   "execution_count": 2,
   "id": "1ced5677",
   "metadata": {},
   "outputs": [],
   "source": [
    "warnings.simplefilter(\"ignore\")"
   ]
  },
  {
   "cell_type": "code",
   "execution_count": 3,
   "id": "524ba689",
   "metadata": {},
   "outputs": [],
   "source": [
    "%load_ext google.cloud.bigquery\n"
   ]
  },
  {
   "cell_type": "code",
   "execution_count": 4,
   "id": "a719f894",
   "metadata": {},
   "outputs": [
    {
     "data": {
      "application/vnd.jupyter.widget-view+json": {
       "model_id": "2ca0fe131c7941d2b6f643978e365faf",
       "version_major": 2,
       "version_minor": 0
      },
      "text/plain": [
       "Query is running:   0%|          |"
      ]
     },
     "metadata": {},
     "output_type": "display_data"
    },
    {
     "data": {
      "application/vnd.jupyter.widget-view+json": {
       "model_id": "60bd81ee69334b68b5620f812c13425d",
       "version_major": 2,
       "version_minor": 0
      },
      "text/plain": [
       "Downloading:   0%|          |"
      ]
     },
     "metadata": {},
     "output_type": "display_data"
    },
    {
     "data": {
      "text/html": [
       "<div>\n",
       "<style scoped>\n",
       "    .dataframe tbody tr th:only-of-type {\n",
       "        vertical-align: middle;\n",
       "    }\n",
       "\n",
       "    .dataframe tbody tr th {\n",
       "        vertical-align: top;\n",
       "    }\n",
       "\n",
       "    .dataframe thead th {\n",
       "        text-align: right;\n",
       "    }\n",
       "</style>\n",
       "<table border=\"1\" class=\"dataframe\">\n",
       "  <thead>\n",
       "    <tr style=\"text-align: right;\">\n",
       "      <th></th>\n",
       "      <th>TransactionID</th>\n",
       "      <th>AccountID</th>\n",
       "      <th>TransactionAmount</th>\n",
       "      <th>TransactionDate</th>\n",
       "      <th>TransactionType</th>\n",
       "      <th>Location</th>\n",
       "      <th>DeviceID</th>\n",
       "      <th>IP Address</th>\n",
       "      <th>MerchantID</th>\n",
       "      <th>Channel</th>\n",
       "      <th>CustomerAge</th>\n",
       "      <th>CustomerOccupation</th>\n",
       "      <th>TransactionDuration</th>\n",
       "      <th>LoginAttempts</th>\n",
       "      <th>AccountBalance</th>\n",
       "      <th>PreviousTransactionDate</th>\n",
       "    </tr>\n",
       "  </thead>\n",
       "  <tbody>\n",
       "    <tr>\n",
       "      <th>0</th>\n",
       "      <td>TX000006</td>\n",
       "      <td>AC00393</td>\n",
       "      <td>92.15</td>\n",
       "      <td>2023-04-03 17:15:00+00:00</td>\n",
       "      <td>Debit</td>\n",
       "      <td>Oklahoma City</td>\n",
       "      <td>D000579</td>\n",
       "      <td>117.67.192.211</td>\n",
       "      <td>M054</td>\n",
       "      <td>ATM</td>\n",
       "      <td>18</td>\n",
       "      <td>Student</td>\n",
       "      <td>172</td>\n",
       "      <td>1</td>\n",
       "      <td>781.68</td>\n",
       "      <td>2024-11-04 08:06:00+00:00</td>\n",
       "    </tr>\n",
       "    <tr>\n",
       "      <th>1</th>\n",
       "      <td>TX000413</td>\n",
       "      <td>AC00421</td>\n",
       "      <td>242.39</td>\n",
       "      <td>2023-11-20 16:29:00+00:00</td>\n",
       "      <td>Credit</td>\n",
       "      <td>San Antonio</td>\n",
       "      <td>D000451</td>\n",
       "      <td>26.105.49.129</td>\n",
       "      <td>M008</td>\n",
       "      <td>ATM</td>\n",
       "      <td>18</td>\n",
       "      <td>Student</td>\n",
       "      <td>271</td>\n",
       "      <td>1</td>\n",
       "      <td>1328.73</td>\n",
       "      <td>2024-11-04 08:06:00+00:00</td>\n",
       "    </tr>\n",
       "    <tr>\n",
       "      <th>2</th>\n",
       "      <td>TX000899</td>\n",
       "      <td>AC00083</td>\n",
       "      <td>1531.31</td>\n",
       "      <td>2023-10-23 18:00:00+00:00</td>\n",
       "      <td>Debit</td>\n",
       "      <td>San Diego</td>\n",
       "      <td>D000319</td>\n",
       "      <td>91.204.200.167</td>\n",
       "      <td>M078</td>\n",
       "      <td>Online</td>\n",
       "      <td>18</td>\n",
       "      <td>Student</td>\n",
       "      <td>62</td>\n",
       "      <td>4</td>\n",
       "      <td>859.86</td>\n",
       "      <td>2024-11-04 08:06:00+00:00</td>\n",
       "    </tr>\n",
       "    <tr>\n",
       "      <th>3</th>\n",
       "      <td>TX002004</td>\n",
       "      <td>AC00388</td>\n",
       "      <td>248.76</td>\n",
       "      <td>2023-05-24 16:12:00+00:00</td>\n",
       "      <td>Debit</td>\n",
       "      <td>Denver</td>\n",
       "      <td>D000334</td>\n",
       "      <td>80.75.92.66</td>\n",
       "      <td>M091</td>\n",
       "      <td>ATM</td>\n",
       "      <td>18</td>\n",
       "      <td>Student</td>\n",
       "      <td>56</td>\n",
       "      <td>1</td>\n",
       "      <td>546.46</td>\n",
       "      <td>2024-11-04 08:06:00+00:00</td>\n",
       "    </tr>\n",
       "    <tr>\n",
       "      <th>4</th>\n",
       "      <td>TX002102</td>\n",
       "      <td>AC00374</td>\n",
       "      <td>51.20</td>\n",
       "      <td>2023-03-13 18:45:00+00:00</td>\n",
       "      <td>Debit</td>\n",
       "      <td>Tucson</td>\n",
       "      <td>D000105</td>\n",
       "      <td>21.97.154.92</td>\n",
       "      <td>M066</td>\n",
       "      <td>Online</td>\n",
       "      <td>18</td>\n",
       "      <td>Student</td>\n",
       "      <td>83</td>\n",
       "      <td>1</td>\n",
       "      <td>730.60</td>\n",
       "      <td>2024-11-04 08:06:00+00:00</td>\n",
       "    </tr>\n",
       "  </tbody>\n",
       "</table>\n",
       "</div>"
      ],
      "text/plain": [
       "  TransactionID AccountID  TransactionAmount           TransactionDate  \\\n",
       "0      TX000006   AC00393              92.15 2023-04-03 17:15:00+00:00   \n",
       "1      TX000413   AC00421             242.39 2023-11-20 16:29:00+00:00   \n",
       "2      TX000899   AC00083            1531.31 2023-10-23 18:00:00+00:00   \n",
       "3      TX002004   AC00388             248.76 2023-05-24 16:12:00+00:00   \n",
       "4      TX002102   AC00374              51.20 2023-03-13 18:45:00+00:00   \n",
       "\n",
       "  TransactionType       Location DeviceID      IP Address MerchantID Channel  \\\n",
       "0           Debit  Oklahoma City  D000579  117.67.192.211       M054     ATM   \n",
       "1          Credit    San Antonio  D000451   26.105.49.129       M008     ATM   \n",
       "2           Debit      San Diego  D000319  91.204.200.167       M078  Online   \n",
       "3           Debit         Denver  D000334     80.75.92.66       M091     ATM   \n",
       "4           Debit         Tucson  D000105    21.97.154.92       M066  Online   \n",
       "\n",
       "   CustomerAge CustomerOccupation  TransactionDuration  LoginAttempts  \\\n",
       "0           18            Student                  172              1   \n",
       "1           18            Student                  271              1   \n",
       "2           18            Student                   62              4   \n",
       "3           18            Student                   56              1   \n",
       "4           18            Student                   83              1   \n",
       "\n",
       "   AccountBalance   PreviousTransactionDate  \n",
       "0          781.68 2024-11-04 08:06:00+00:00  \n",
       "1         1328.73 2024-11-04 08:06:00+00:00  \n",
       "2          859.86 2024-11-04 08:06:00+00:00  \n",
       "3          546.46 2024-11-04 08:06:00+00:00  \n",
       "4          730.60 2024-11-04 08:06:00+00:00  "
      ]
     },
     "execution_count": 4,
     "metadata": {},
     "output_type": "execute_result"
    }
   ],
   "source": [
    "%%bigquery --use_rest_api --project customer-transaction-analysis\n",
    "SELECT * FROM `customer-transaction-analysis.customer_data.transactions`\n",
    "LIMIT 5;"
   ]
  },
  {
   "cell_type": "code",
   "execution_count": 6,
   "id": "3a6eaa11",
   "metadata": {},
   "outputs": [
    {
     "data": {
      "application/vnd.jupyter.widget-view+json": {
       "model_id": "603615ac5e9d42d3928915cfb3f8bc91",
       "version_major": 2,
       "version_minor": 0
      },
      "text/plain": [
       "Query is running:   0%|          |"
      ]
     },
     "metadata": {},
     "output_type": "display_data"
    },
    {
     "data": {
      "application/vnd.jupyter.widget-view+json": {
       "model_id": "a95af2a7e3da4a74b274f82080c03404",
       "version_major": 2,
       "version_minor": 0
      },
      "text/plain": [
       "Downloading:   0%|          |"
      ]
     },
     "metadata": {},
     "output_type": "display_data"
    },
    {
     "data": {
      "text/html": [
       "<div>\n",
       "<style scoped>\n",
       "    .dataframe tbody tr th:only-of-type {\n",
       "        vertical-align: middle;\n",
       "    }\n",
       "\n",
       "    .dataframe tbody tr th {\n",
       "        vertical-align: top;\n",
       "    }\n",
       "\n",
       "    .dataframe thead th {\n",
       "        text-align: right;\n",
       "    }\n",
       "</style>\n",
       "<table border=\"1\" class=\"dataframe\">\n",
       "  <thead>\n",
       "    <tr style=\"text-align: right;\">\n",
       "      <th></th>\n",
       "      <th>total_rows</th>\n",
       "      <th>null_transaction_id</th>\n",
       "      <th>null_amount</th>\n",
       "    </tr>\n",
       "  </thead>\n",
       "  <tbody>\n",
       "    <tr>\n",
       "      <th>0</th>\n",
       "      <td>2512</td>\n",
       "      <td>0</td>\n",
       "      <td>0</td>\n",
       "    </tr>\n",
       "  </tbody>\n",
       "</table>\n",
       "</div>"
      ],
      "text/plain": [
       "   total_rows  null_transaction_id  null_amount\n",
       "0        2512                    0            0"
      ]
     },
     "execution_count": 6,
     "metadata": {},
     "output_type": "execute_result"
    }
   ],
   "source": [
    "# confirm the total rows\n",
    "%%bigquery --use_rest_api --project customer-transaction-analysis\n",
    "SELECT \n",
    "  COUNT(*) AS total_rows,\n",
    "  COUNTIF(TransactionID IS NULL) AS null_transaction_id,\n",
    "  COUNTIF(TransactionAmount IS NULL) AS null_amount,\n",
    "  \n",
    "FROM customer-transaction-analysis.customer_data.transactions;\n"
   ]
  },
  {
   "cell_type": "code",
   "execution_count": 8,
   "id": "b2e4fb62",
   "metadata": {},
   "outputs": [
    {
     "name": "stdout",
     "output_type": "stream",
     "text": [
      "Downloading: 100%|\u001b[32m████████████████████████████████████████████████████████████████████████████████████████████████████\u001b[0m|\u001b[0m\n"
     ]
    }
   ],
   "source": [
    "# read into csv \n",
    "query = \"SELECT * FROM customer-transaction-analysis.customer_data.transactions\"\n",
    "df = read_gbq(query, project_id=\"customer-transaction-analysis\")"
   ]
  },
  {
   "cell_type": "code",
   "execution_count": 9,
   "id": "aef68995",
   "metadata": {},
   "outputs": [
    {
     "data": {
      "text/html": [
       "<div>\n",
       "<style scoped>\n",
       "    .dataframe tbody tr th:only-of-type {\n",
       "        vertical-align: middle;\n",
       "    }\n",
       "\n",
       "    .dataframe tbody tr th {\n",
       "        vertical-align: top;\n",
       "    }\n",
       "\n",
       "    .dataframe thead th {\n",
       "        text-align: right;\n",
       "    }\n",
       "</style>\n",
       "<table border=\"1\" class=\"dataframe\">\n",
       "  <thead>\n",
       "    <tr style=\"text-align: right;\">\n",
       "      <th></th>\n",
       "      <th>TransactionID</th>\n",
       "      <th>AccountID</th>\n",
       "      <th>TransactionAmount</th>\n",
       "      <th>TransactionDate</th>\n",
       "      <th>TransactionType</th>\n",
       "      <th>Location</th>\n",
       "      <th>DeviceID</th>\n",
       "      <th>IP Address</th>\n",
       "      <th>MerchantID</th>\n",
       "      <th>Channel</th>\n",
       "      <th>CustomerAge</th>\n",
       "      <th>CustomerOccupation</th>\n",
       "      <th>TransactionDuration</th>\n",
       "      <th>LoginAttempts</th>\n",
       "      <th>AccountBalance</th>\n",
       "      <th>PreviousTransactionDate</th>\n",
       "    </tr>\n",
       "  </thead>\n",
       "  <tbody>\n",
       "    <tr>\n",
       "      <th>0</th>\n",
       "      <td>TX000006</td>\n",
       "      <td>AC00393</td>\n",
       "      <td>92.15</td>\n",
       "      <td>2023-04-03 17:15:00+00:00</td>\n",
       "      <td>Debit</td>\n",
       "      <td>Oklahoma City</td>\n",
       "      <td>D000579</td>\n",
       "      <td>117.67.192.211</td>\n",
       "      <td>M054</td>\n",
       "      <td>ATM</td>\n",
       "      <td>18</td>\n",
       "      <td>Student</td>\n",
       "      <td>172</td>\n",
       "      <td>1</td>\n",
       "      <td>781.68</td>\n",
       "      <td>2024-11-04 08:06:00+00:00</td>\n",
       "    </tr>\n",
       "    <tr>\n",
       "      <th>1</th>\n",
       "      <td>TX000413</td>\n",
       "      <td>AC00421</td>\n",
       "      <td>242.39</td>\n",
       "      <td>2023-11-20 16:29:00+00:00</td>\n",
       "      <td>Credit</td>\n",
       "      <td>San Antonio</td>\n",
       "      <td>D000451</td>\n",
       "      <td>26.105.49.129</td>\n",
       "      <td>M008</td>\n",
       "      <td>ATM</td>\n",
       "      <td>18</td>\n",
       "      <td>Student</td>\n",
       "      <td>271</td>\n",
       "      <td>1</td>\n",
       "      <td>1328.73</td>\n",
       "      <td>2024-11-04 08:06:00+00:00</td>\n",
       "    </tr>\n",
       "    <tr>\n",
       "      <th>2</th>\n",
       "      <td>TX000899</td>\n",
       "      <td>AC00083</td>\n",
       "      <td>1531.31</td>\n",
       "      <td>2023-10-23 18:00:00+00:00</td>\n",
       "      <td>Debit</td>\n",
       "      <td>San Diego</td>\n",
       "      <td>D000319</td>\n",
       "      <td>91.204.200.167</td>\n",
       "      <td>M078</td>\n",
       "      <td>Online</td>\n",
       "      <td>18</td>\n",
       "      <td>Student</td>\n",
       "      <td>62</td>\n",
       "      <td>4</td>\n",
       "      <td>859.86</td>\n",
       "      <td>2024-11-04 08:06:00+00:00</td>\n",
       "    </tr>\n",
       "    <tr>\n",
       "      <th>3</th>\n",
       "      <td>TX002004</td>\n",
       "      <td>AC00388</td>\n",
       "      <td>248.76</td>\n",
       "      <td>2023-05-24 16:12:00+00:00</td>\n",
       "      <td>Debit</td>\n",
       "      <td>Denver</td>\n",
       "      <td>D000334</td>\n",
       "      <td>80.75.92.66</td>\n",
       "      <td>M091</td>\n",
       "      <td>ATM</td>\n",
       "      <td>18</td>\n",
       "      <td>Student</td>\n",
       "      <td>56</td>\n",
       "      <td>1</td>\n",
       "      <td>546.46</td>\n",
       "      <td>2024-11-04 08:06:00+00:00</td>\n",
       "    </tr>\n",
       "    <tr>\n",
       "      <th>4</th>\n",
       "      <td>TX002102</td>\n",
       "      <td>AC00374</td>\n",
       "      <td>51.20</td>\n",
       "      <td>2023-03-13 18:45:00+00:00</td>\n",
       "      <td>Debit</td>\n",
       "      <td>Tucson</td>\n",
       "      <td>D000105</td>\n",
       "      <td>21.97.154.92</td>\n",
       "      <td>M066</td>\n",
       "      <td>Online</td>\n",
       "      <td>18</td>\n",
       "      <td>Student</td>\n",
       "      <td>83</td>\n",
       "      <td>1</td>\n",
       "      <td>730.60</td>\n",
       "      <td>2024-11-04 08:06:00+00:00</td>\n",
       "    </tr>\n",
       "  </tbody>\n",
       "</table>\n",
       "</div>"
      ],
      "text/plain": [
       "  TransactionID AccountID  TransactionAmount           TransactionDate  \\\n",
       "0      TX000006   AC00393              92.15 2023-04-03 17:15:00+00:00   \n",
       "1      TX000413   AC00421             242.39 2023-11-20 16:29:00+00:00   \n",
       "2      TX000899   AC00083            1531.31 2023-10-23 18:00:00+00:00   \n",
       "3      TX002004   AC00388             248.76 2023-05-24 16:12:00+00:00   \n",
       "4      TX002102   AC00374              51.20 2023-03-13 18:45:00+00:00   \n",
       "\n",
       "  TransactionType       Location DeviceID      IP Address MerchantID Channel  \\\n",
       "0           Debit  Oklahoma City  D000579  117.67.192.211       M054     ATM   \n",
       "1          Credit    San Antonio  D000451   26.105.49.129       M008     ATM   \n",
       "2           Debit      San Diego  D000319  91.204.200.167       M078  Online   \n",
       "3           Debit         Denver  D000334     80.75.92.66       M091     ATM   \n",
       "4           Debit         Tucson  D000105    21.97.154.92       M066  Online   \n",
       "\n",
       "   CustomerAge CustomerOccupation  TransactionDuration  LoginAttempts  \\\n",
       "0           18            Student                  172              1   \n",
       "1           18            Student                  271              1   \n",
       "2           18            Student                   62              4   \n",
       "3           18            Student                   56              1   \n",
       "4           18            Student                   83              1   \n",
       "\n",
       "   AccountBalance   PreviousTransactionDate  \n",
       "0          781.68 2024-11-04 08:06:00+00:00  \n",
       "1         1328.73 2024-11-04 08:06:00+00:00  \n",
       "2          859.86 2024-11-04 08:06:00+00:00  \n",
       "3          546.46 2024-11-04 08:06:00+00:00  \n",
       "4          730.60 2024-11-04 08:06:00+00:00  "
      ]
     },
     "execution_count": 9,
     "metadata": {},
     "output_type": "execute_result"
    }
   ],
   "source": [
    "# display first five rows from the table\n",
    "df.head()"
   ]
  },
  {
   "cell_type": "code",
   "execution_count": 36,
   "id": "45bb50b1",
   "metadata": {},
   "outputs": [
    {
     "data": {
      "text/plain": [
       "(2512, 16)"
      ]
     },
     "execution_count": 36,
     "metadata": {},
     "output_type": "execute_result"
    }
   ],
   "source": [
    "df.shape"
   ]
  },
  {
   "cell_type": "code",
   "execution_count": 13,
   "id": "de286444",
   "metadata": {},
   "outputs": [
    {
     "data": {
      "text/plain": [
       "0"
      ]
     },
     "execution_count": 13,
     "metadata": {},
     "output_type": "execute_result"
    }
   ],
   "source": [
    "# check for duplicates\n",
    "df.duplicated().sum()"
   ]
  },
  {
   "cell_type": "code",
   "execution_count": 14,
   "id": "34e48eff",
   "metadata": {},
   "outputs": [
    {
     "data": {
      "text/html": [
       "<div>\n",
       "<style scoped>\n",
       "    .dataframe tbody tr th:only-of-type {\n",
       "        vertical-align: middle;\n",
       "    }\n",
       "\n",
       "    .dataframe tbody tr th {\n",
       "        vertical-align: top;\n",
       "    }\n",
       "\n",
       "    .dataframe thead th {\n",
       "        text-align: right;\n",
       "    }\n",
       "</style>\n",
       "<table border=\"1\" class=\"dataframe\">\n",
       "  <thead>\n",
       "    <tr style=\"text-align: right;\">\n",
       "      <th></th>\n",
       "      <th>TransactionAmount</th>\n",
       "      <th>CustomerAge</th>\n",
       "      <th>TransactionDuration</th>\n",
       "      <th>LoginAttempts</th>\n",
       "      <th>AccountBalance</th>\n",
       "    </tr>\n",
       "  </thead>\n",
       "  <tbody>\n",
       "    <tr>\n",
       "      <th>count</th>\n",
       "      <td>2512.000000</td>\n",
       "      <td>2512.000000</td>\n",
       "      <td>2512.000000</td>\n",
       "      <td>2512.000000</td>\n",
       "      <td>2512.000000</td>\n",
       "    </tr>\n",
       "    <tr>\n",
       "      <th>mean</th>\n",
       "      <td>297.593778</td>\n",
       "      <td>44.673965</td>\n",
       "      <td>119.643312</td>\n",
       "      <td>1.124602</td>\n",
       "      <td>5114.302966</td>\n",
       "    </tr>\n",
       "    <tr>\n",
       "      <th>std</th>\n",
       "      <td>291.946243</td>\n",
       "      <td>17.792198</td>\n",
       "      <td>69.963757</td>\n",
       "      <td>0.602662</td>\n",
       "      <td>3900.942499</td>\n",
       "    </tr>\n",
       "    <tr>\n",
       "      <th>min</th>\n",
       "      <td>0.260000</td>\n",
       "      <td>18.000000</td>\n",
       "      <td>10.000000</td>\n",
       "      <td>1.000000</td>\n",
       "      <td>101.250000</td>\n",
       "    </tr>\n",
       "    <tr>\n",
       "      <th>25%</th>\n",
       "      <td>81.885000</td>\n",
       "      <td>27.000000</td>\n",
       "      <td>63.000000</td>\n",
       "      <td>1.000000</td>\n",
       "      <td>1504.370000</td>\n",
       "    </tr>\n",
       "    <tr>\n",
       "      <th>50%</th>\n",
       "      <td>211.140000</td>\n",
       "      <td>45.000000</td>\n",
       "      <td>112.500000</td>\n",
       "      <td>1.000000</td>\n",
       "      <td>4735.510000</td>\n",
       "    </tr>\n",
       "    <tr>\n",
       "      <th>75%</th>\n",
       "      <td>414.527500</td>\n",
       "      <td>59.000000</td>\n",
       "      <td>161.000000</td>\n",
       "      <td>1.000000</td>\n",
       "      <td>7678.820000</td>\n",
       "    </tr>\n",
       "    <tr>\n",
       "      <th>max</th>\n",
       "      <td>1919.110000</td>\n",
       "      <td>80.000000</td>\n",
       "      <td>300.000000</td>\n",
       "      <td>5.000000</td>\n",
       "      <td>14977.990000</td>\n",
       "    </tr>\n",
       "  </tbody>\n",
       "</table>\n",
       "</div>"
      ],
      "text/plain": [
       "       TransactionAmount  CustomerAge  TransactionDuration  LoginAttempts  \\\n",
       "count        2512.000000  2512.000000          2512.000000    2512.000000   \n",
       "mean          297.593778    44.673965           119.643312       1.124602   \n",
       "std           291.946243    17.792198            69.963757       0.602662   \n",
       "min             0.260000    18.000000            10.000000       1.000000   \n",
       "25%            81.885000    27.000000            63.000000       1.000000   \n",
       "50%           211.140000    45.000000           112.500000       1.000000   \n",
       "75%           414.527500    59.000000           161.000000       1.000000   \n",
       "max          1919.110000    80.000000           300.000000       5.000000   \n",
       "\n",
       "       AccountBalance  \n",
       "count     2512.000000  \n",
       "mean      5114.302966  \n",
       "std       3900.942499  \n",
       "min        101.250000  \n",
       "25%       1504.370000  \n",
       "50%       4735.510000  \n",
       "75%       7678.820000  \n",
       "max      14977.990000  "
      ]
     },
     "execution_count": 14,
     "metadata": {},
     "output_type": "execute_result"
    }
   ],
   "source": [
    "# Check data summary\n",
    "df.describe()"
   ]
  },
  {
   "cell_type": "code",
   "execution_count": 17,
   "id": "05330f84",
   "metadata": {},
   "outputs": [
    {
     "data": {
      "text/plain": [
       "TransactionID                           object\n",
       "AccountID                               object\n",
       "TransactionAmount                      float64\n",
       "TransactionDate            datetime64[ns, UTC]\n",
       "TransactionType                         object\n",
       "Location                                object\n",
       "DeviceID                                object\n",
       "IP Address                              object\n",
       "MerchantID                              object\n",
       "Channel                                 object\n",
       "CustomerAge                              Int64\n",
       "CustomerOccupation                      object\n",
       "TransactionDuration                      Int64\n",
       "LoginAttempts                            Int64\n",
       "AccountBalance                         float64\n",
       "PreviousTransactionDate    datetime64[ns, UTC]\n",
       "dtype: object"
      ]
     },
     "execution_count": 17,
     "metadata": {},
     "output_type": "execute_result"
    }
   ],
   "source": [
    "# check data types\n",
    "df.dtypes"
   ]
  },
  {
   "cell_type": "code",
   "execution_count": 34,
   "id": "56cf336a",
   "metadata": {},
   "outputs": [],
   "source": [
    "# Transaction amount distribution\n",
    "\n",
    "df[]"
   ]
  },
  {
   "cell_type": "code",
   "execution_count": 35,
   "id": "e34d9ad3",
   "metadata": {},
   "outputs": [
    {
     "data": {
      "image/png": "[encoded data removed]",
      "text/plain": [
       "<Figure size 432x288 with 1 Axes>"
      ]
     },
     "metadata": {
      "needs_background": "light"
     },
     "output_type": "display_data"
    }
   ],
   "source": [
    "for col in num_cols:\n",
    "    df[col].plot();"
   ]
  },
  {
   "cell_type": "code",
   "execution_count": null,
   "id": "67090d27",
   "metadata": {},
   "outputs": [],
   "source": []
  }
 ],
 "metadata": {
  "kernelspec": {
   "display_name": "Python 3",
   "language": "python",
   "name": "python3"
  },
  "language_info": {
   "codemirror_mode": {
    "name": "ipython",
    "version": 3
   },
   "file_extension": ".py",
   "mimetype": "text/x-python",
   "name": "python",
   "nbconvert_exporter": "python",
   "pygments_lexer": "ipython3",
   "version": "3.8.8"
  }
 },
 "nbformat": 4,
 "nbformat_minor": 5
}
