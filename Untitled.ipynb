{
 "cells": [
  {
   "cell_type": "code",
   "execution_count": 1,
   "id": "4f9c98ac",
   "metadata": {},
   "outputs": [],
   "source": [
    "import warnings\n",
    "\n",
    "import pandas as pd\n"
   ]
  },
  {
   "cell_type": "code",
   "execution_count": 2,
   "id": "1ced5677",
   "metadata": {},
   "outputs": [],
   "source": [
    "warnings.simplefilter(\"ignore\")"
   ]
  },
  {
   "cell_type": "code",
   "execution_count": 3,
   "id": "524ba689",
   "metadata": {},
   "outputs": [],
   "source": [
    "%load_ext google.cloud.bigquery\n"
   ]
  },
  {
   "cell_type": "code",
   "execution_count": 4,
   "id": "a719f894",
   "metadata": {},
   "outputs": [
    {
     "data": {
      "application/vnd.jupyter.widget-view+json": {
       "model_id": "2ca0fe131c7941d2b6f643978e365faf",
       "version_major": 2,
       "version_minor": 0
      },
      "text/plain": [
       "Query is running:   0%|          |"
      ]
     },
     "metadata": {},
     "output_type": "display_data"
    },
    {
     "data": {
      "application/vnd.jupyter.widget-view+json": {
       "model_id": "60bd81ee69334b68b5620f812c13425d",
       "version_major": 2,
       "version_minor": 0
      },
      "text/plain": [
       "Downloading:   0%|          |"
      ]
     },
     "metadata": {},
     "output_type": "display_data"
    },
    {
     "data": {
      "text/html": [
       "<div>\n",
       "<style scoped>\n",
       "    .dataframe tbody tr th:only-of-type {\n",
       "        vertical-align: middle;\n",
       "    }\n",
       "\n",
       "    .dataframe tbody tr th {\n",
       "        vertical-align: top;\n",
       "    }\n",
       "\n",
       "    .dataframe thead th {\n",
       "        text-align: right;\n",
       "    }\n",
       "</style>\n",
       "<table border=\"1\" class=\"dataframe\">\n",
       "  <thead>\n",
       "    <tr style=\"text-align: right;\">\n",
       "      <th></th>\n",
       "      <th>TransactionID</th>\n",
       "      <th>AccountID</th>\n",
       "      <th>TransactionAmount</th>\n",
       "      <th>TransactionDate</th>\n",
       "      <th>TransactionType</th>\n",
       "      <th>Location</th>\n",
       "      <th>DeviceID</th>\n",
       "      <th>IP Address</th>\n",
       "      <th>MerchantID</th>\n",
       "      <th>Channel</th>\n",
       "      <th>CustomerAge</th>\n",
       "      <th>CustomerOccupation</th>\n",
       "      <th>TransactionDuration</th>\n",
       "      <th>LoginAttempts</th>\n",
       "      <th>AccountBalance</th>\n",
       "      <th>PreviousTransactionDate</th>\n",
       "    </tr>\n",
       "  </thead>\n",
       "  <tbody>\n",
       "    <tr>\n",
       "      <th>0</th>\n",
       "      <td>TX000006</td>\n",
       "      <td>AC00393</td>\n",
       "      <td>92.15</td>\n",
       "      <td>2023-04-03 17:15:00+00:00</td>\n",
       "      <td>Debit</td>\n",
       "      <td>Oklahoma City</td>\n",
       "      <td>D000579</td>\n",
       "      <td>117.67.192.211</td>\n",
       "      <td>M054</td>\n",
       "      <td>ATM</td>\n",
       "      <td>18</td>\n",
       "      <td>Student</td>\n",
       "      <td>172</td>\n",
       "      <td>1</td>\n",
       "      <td>781.68</td>\n",
       "      <td>2024-11-04 08:06:00+00:00</td>\n",
       "    </tr>\n",
       "    <tr>\n",
       "      <th>1</th>\n",
       "      <td>TX000413</td>\n",
       "      <td>AC00421</td>\n",
       "      <td>242.39</td>\n",
       "      <td>2023-11-20 16:29:00+00:00</td>\n",
       "      <td>Credit</td>\n",
       "      <td>San Antonio</td>\n",
       "      <td>D000451</td>\n",
       "      <td>26.105.49.129</td>\n",
       "      <td>M008</td>\n",
       "      <td>ATM</td>\n",
       "      <td>18</td>\n",
       "      <td>Student</td>\n",
       "      <td>271</td>\n",
       "      <td>1</td>\n",
       "      <td>1328.73</td>\n",
       "      <td>2024-11-04 08:06:00+00:00</td>\n",
       "    </tr>\n",
       "    <tr>\n",
       "      <th>2</th>\n",
       "      <td>TX000899</td>\n",
       "      <td>AC00083</td>\n",
       "      <td>1531.31</td>\n",
       "      <td>2023-10-23 18:00:00+00:00</td>\n",
       "      <td>Debit</td>\n",
       "      <td>San Diego</td>\n",
       "      <td>D000319</td>\n",
       "      <td>91.204.200.167</td>\n",
       "      <td>M078</td>\n",
       "      <td>Online</td>\n",
       "      <td>18</td>\n",
       "      <td>Student</td>\n",
       "      <td>62</td>\n",
       "      <td>4</td>\n",
       "      <td>859.86</td>\n",
       "      <td>2024-11-04 08:06:00+00:00</td>\n",
       "    </tr>\n",
       "    <tr>\n",
       "      <th>3</th>\n",
       "      <td>TX002004</td>\n",
       "      <td>AC00388</td>\n",
       "      <td>248.76</td>\n",
       "      <td>2023-05-24 16:12:00+00:00</td>\n",
       "      <td>Debit</td>\n",
       "      <td>Denver</td>\n",
       "      <td>D000334</td>\n",
       "      <td>80.75.92.66</td>\n",
       "      <td>M091</td>\n",
       "      <td>ATM</td>\n",
       "      <td>18</td>\n",
       "      <td>Student</td>\n",
       "      <td>56</td>\n",
       "      <td>1</td>\n",
       "      <td>546.46</td>\n",
       "      <td>2024-11-04 08:06:00+00:00</td>\n",
       "    </tr>\n",
       "    <tr>\n",
       "      <th>4</th>\n",
       "      <td>TX002102</td>\n",
       "      <td>AC00374</td>\n",
       "      <td>51.20</td>\n",
       "      <td>2023-03-13 18:45:00+00:00</td>\n",
       "      <td>Debit</td>\n",
       "      <td>Tucson</td>\n",
       "      <td>D000105</td>\n",
       "      <td>21.97.154.92</td>\n",
       "      <td>M066</td>\n",
       "      <td>Online</td>\n",
       "      <td>18</td>\n",
       "      <td>Student</td>\n",
       "      <td>83</td>\n",
       "      <td>1</td>\n",
       "      <td>730.60</td>\n",
       "      <td>2024-11-04 08:06:00+00:00</td>\n",
       "    </tr>\n",
       "  </tbody>\n",
       "</table>\n",
       "</div>"
      ],
      "text/plain": [
       "  TransactionID AccountID  TransactionAmount           TransactionDate  \\\n",
       "0      TX000006   AC00393              92.15 2023-04-03 17:15:00+00:00   \n",
       "1      TX000413   AC00421             242.39 2023-11-20 16:29:00+00:00   \n",
       "2      TX000899   AC00083            1531.31 2023-10-23 18:00:00+00:00   \n",
       "3      TX002004   AC00388             248.76 2023-05-24 16:12:00+00:00   \n",
       "4      TX002102   AC00374              51.20 2023-03-13 18:45:00+00:00   \n",
       "\n",
       "  TransactionType       Location DeviceID      IP Address MerchantID Channel  \\\n",
       "0           Debit  Oklahoma City  D000579  117.67.192.211       M054     ATM   \n",
       "1          Credit    San Antonio  D000451   26.105.49.129       M008     ATM   \n",
       "2           Debit      San Diego  D000319  91.204.200.167       M078  Online   \n",
       "3           Debit         Denver  D000334     80.75.92.66       M091     ATM   \n",
       "4           Debit         Tucson  D000105    21.97.154.92       M066  Online   \n",
       "\n",
       "   CustomerAge CustomerOccupation  TransactionDuration  LoginAttempts  \\\n",
       "0           18            Student                  172              1   \n",
       "1           18            Student                  271              1   \n",
       "2           18            Student                   62              4   \n",
       "3           18            Student                   56              1   \n",
       "4           18            Student                   83              1   \n",
       "\n",
       "   AccountBalance   PreviousTransactionDate  \n",
       "0          781.68 2024-11-04 08:06:00+00:00  \n",
       "1         1328.73 2024-11-04 08:06:00+00:00  \n",
       "2          859.86 2024-11-04 08:06:00+00:00  \n",
       "3          546.46 2024-11-04 08:06:00+00:00  \n",
       "4          730.60 2024-11-04 08:06:00+00:00  "
      ]
     },
     "execution_count": 4,
     "metadata": {},
     "output_type": "execute_result"
    }
   ],
   "source": [
    "%%bigquery --use_rest_api --project customer-transaction-analysis\n",
    "SELECT * FROM `customer-transaction-analysis.customer_data.transactions`\n",
    "LIMIT 5;"
   ]
  },
  {
   "cell_type": "code",
   "execution_count": 5,
   "id": "3a6eaa11",
   "metadata": {},
   "outputs": [
    {
     "data": {
      "application/vnd.jupyter.widget-view+json": {
       "model_id": "e756ef43cd0c43dba0baa0a118dec049",
       "version_major": 2,
       "version_minor": 0
      },
      "text/plain": [
       "Query is running:   0%|          |"
      ]
     },
     "metadata": {},
     "output_type": "display_data"
    },
    {
     "data": {
      "application/vnd.jupyter.widget-view+json": {
       "model_id": "c6b0a1a206e94fef8ed3976fb82ebc88",
       "version_major": 2,
       "version_minor": 0
      },
      "text/plain": [
       "Downloading:   0%|          |"
      ]
     },
     "metadata": {},
     "output_type": "display_data"
    },
    {
     "data": {
      "text/html": [
       "<div>\n",
       "<style scoped>\n",
       "    .dataframe tbody tr th:only-of-type {\n",
       "        vertical-align: middle;\n",
       "    }\n",
       "\n",
       "    .dataframe tbody tr th {\n",
       "        vertical-align: top;\n",
       "    }\n",
       "\n",
       "    .dataframe thead th {\n",
       "        text-align: right;\n",
       "    }\n",
       "</style>\n",
       "<table border=\"1\" class=\"dataframe\">\n",
       "  <thead>\n",
       "    <tr style=\"text-align: right;\">\n",
       "      <th></th>\n",
       "      <th>total_rows</th>\n",
       "      <th>null_transaction_id</th>\n",
       "      <th>null_amount</th>\n",
       "    </tr>\n",
       "  </thead>\n",
       "  <tbody>\n",
       "    <tr>\n",
       "      <th>0</th>\n",
       "      <td>2512</td>\n",
       "      <td>0</td>\n",
       "      <td>0</td>\n",
       "    </tr>\n",
       "  </tbody>\n",
       "</table>\n",
       "</div>"
      ],
      "text/plain": [
       "   total_rows  null_transaction_id  null_amount\n",
       "0        2512                    0            0"
      ]
     },
     "execution_count": 5,
     "metadata": {},
     "output_type": "execute_result"
    }
   ],
   "source": [
    "%%bigquery --use_rest_api --project customer-transaction-analysis\n",
    "SELECT \n",
    "  COUNT(*) AS total_rows,\n",
    "  COUNTIF(TransactionID IS NULL) AS null_transaction_id,\n",
    "  COUNTIF(TransactionAmount IS NULL) AS null_amount,\n",
    "  \n",
    "FROM customer-transaction-analysis.customer_data.transactions;\n"
   ]
  },
  {
   "cell_type": "code",
   "execution_count": null,
   "id": "b2e4fb62",
   "metadata": {},
   "outputs": [],
   "source": []
  }
 ],
 "metadata": {
  "kernelspec": {
   "display_name": "Python 3",
   "language": "python",
   "name": "python3"
  },
  "language_info": {
   "codemirror_mode": {
    "name": "ipython",
    "version": 3
   },
   "file_extension": ".py",
   "mimetype": "text/x-python",
   "name": "python",
   "nbconvert_exporter": "python",
   "pygments_lexer": "ipython3",
   "version": "3.8.8"
  }
 },
 "nbformat": 4,
 "nbformat_minor": 5
}
