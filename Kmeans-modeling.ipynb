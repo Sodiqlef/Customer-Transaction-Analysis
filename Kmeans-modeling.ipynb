{
 "cells": [
  {
   "cell_type": "code",
   "execution_count": 65,
   "id": "4f9c98ac",
   "metadata": {},
   "outputs": [],
   "source": [
    "import warnings\n",
    "import pandas as pd\n",
    "import seaborn as sns\n",
    "\n",
    "from pandas_gbq import read_gbq\n",
    "from matplotlib import pyplot as plt"
   ]
  },
  {
   "cell_type": "code",
   "execution_count": 2,
   "id": "1ced5677",
   "metadata": {},
   "outputs": [],
   "source": [
    "warnings.simplefilter(\"ignore\")"
   ]
  },
  {
   "cell_type": "code",
   "execution_count": 3,
   "id": "524ba689",
   "metadata": {},
   "outputs": [],
   "source": [
    "%load_ext google.cloud.bigquery\n"
   ]
  },
  {
   "cell_type": "code",
   "execution_count": 4,
   "id": "a719f894",
   "metadata": {},
   "outputs": [
    {
     "data": {
      "application/vnd.jupyter.widget-view+json": {
       "model_id": "2ca0fe131c7941d2b6f643978e365faf",
       "version_major": 2,
       "version_minor": 0
      },
      "text/plain": [
       "Query is running:   0%|          |"
      ]
     },
     "metadata": {},
     "output_type": "display_data"
    },
    {
     "data": {
      "application/vnd.jupyter.widget-view+json": {
       "model_id": "60bd81ee69334b68b5620f812c13425d",
       "version_major": 2,
       "version_minor": 0
      },
      "text/plain": [
       "Downloading:   0%|          |"
      ]
     },
     "metadata": {},
     "output_type": "display_data"
    },
    {
     "data": {
      "text/html": [
       "<div>\n",
       "<style scoped>\n",
       "    .dataframe tbody tr th:only-of-type {\n",
       "        vertical-align: middle;\n",
       "    }\n",
       "\n",
       "    .dataframe tbody tr th {\n",
       "        vertical-align: top;\n",
       "    }\n",
       "\n",
       "    .dataframe thead th {\n",
       "        text-align: right;\n",
       "    }\n",
       "</style>\n",
       "<table border=\"1\" class=\"dataframe\">\n",
       "  <thead>\n",
       "    <tr style=\"text-align: right;\">\n",
       "      <th></th>\n",
       "      <th>TransactionID</th>\n",
       "      <th>AccountID</th>\n",
       "      <th>TransactionAmount</th>\n",
       "      <th>TransactionDate</th>\n",
       "      <th>TransactionType</th>\n",
       "      <th>Location</th>\n",
       "      <th>DeviceID</th>\n",
       "      <th>IP Address</th>\n",
       "      <th>MerchantID</th>\n",
       "      <th>Channel</th>\n",
       "      <th>CustomerAge</th>\n",
       "      <th>CustomerOccupation</th>\n",
       "      <th>TransactionDuration</th>\n",
       "      <th>LoginAttempts</th>\n",
       "      <th>AccountBalance</th>\n",
       "      <th>PreviousTransactionDate</th>\n",
       "    </tr>\n",
       "  </thead>\n",
       "  <tbody>\n",
       "    <tr>\n",
       "      <th>0</th>\n",
       "      <td>TX000006</td>\n",
       "      <td>AC00393</td>\n",
       "      <td>92.15</td>\n",
       "      <td>2023-04-03 17:15:00+00:00</td>\n",
       "      <td>Debit</td>\n",
       "      <td>Oklahoma City</td>\n",
       "      <td>D000579</td>\n",
       "      <td>117.67.192.211</td>\n",
       "      <td>M054</td>\n",
       "      <td>ATM</td>\n",
       "      <td>18</td>\n",
       "      <td>Student</td>\n",
       "      <td>172</td>\n",
       "      <td>1</td>\n",
       "      <td>781.68</td>\n",
       "      <td>2024-11-04 08:06:00+00:00</td>\n",
       "    </tr>\n",
       "    <tr>\n",
       "      <th>1</th>\n",
       "      <td>TX000413</td>\n",
       "      <td>AC00421</td>\n",
       "      <td>242.39</td>\n",
       "      <td>2023-11-20 16:29:00+00:00</td>\n",
       "      <td>Credit</td>\n",
       "      <td>San Antonio</td>\n",
       "      <td>D000451</td>\n",
       "      <td>26.105.49.129</td>\n",
       "      <td>M008</td>\n",
       "      <td>ATM</td>\n",
       "      <td>18</td>\n",
       "      <td>Student</td>\n",
       "      <td>271</td>\n",
       "      <td>1</td>\n",
       "      <td>1328.73</td>\n",
       "      <td>2024-11-04 08:06:00+00:00</td>\n",
       "    </tr>\n",
       "    <tr>\n",
       "      <th>2</th>\n",
       "      <td>TX000899</td>\n",
       "      <td>AC00083</td>\n",
       "      <td>1531.31</td>\n",
       "      <td>2023-10-23 18:00:00+00:00</td>\n",
       "      <td>Debit</td>\n",
       "      <td>San Diego</td>\n",
       "      <td>D000319</td>\n",
       "      <td>91.204.200.167</td>\n",
       "      <td>M078</td>\n",
       "      <td>Online</td>\n",
       "      <td>18</td>\n",
       "      <td>Student</td>\n",
       "      <td>62</td>\n",
       "      <td>4</td>\n",
       "      <td>859.86</td>\n",
       "      <td>2024-11-04 08:06:00+00:00</td>\n",
       "    </tr>\n",
       "    <tr>\n",
       "      <th>3</th>\n",
       "      <td>TX002004</td>\n",
       "      <td>AC00388</td>\n",
       "      <td>248.76</td>\n",
       "      <td>2023-05-24 16:12:00+00:00</td>\n",
       "      <td>Debit</td>\n",
       "      <td>Denver</td>\n",
       "      <td>D000334</td>\n",
       "      <td>80.75.92.66</td>\n",
       "      <td>M091</td>\n",
       "      <td>ATM</td>\n",
       "      <td>18</td>\n",
       "      <td>Student</td>\n",
       "      <td>56</td>\n",
       "      <td>1</td>\n",
       "      <td>546.46</td>\n",
       "      <td>2024-11-04 08:06:00+00:00</td>\n",
       "    </tr>\n",
       "    <tr>\n",
       "      <th>4</th>\n",
       "      <td>TX002102</td>\n",
       "      <td>AC00374</td>\n",
       "      <td>51.20</td>\n",
       "      <td>2023-03-13 18:45:00+00:00</td>\n",
       "      <td>Debit</td>\n",
       "      <td>Tucson</td>\n",
       "      <td>D000105</td>\n",
       "      <td>21.97.154.92</td>\n",
       "      <td>M066</td>\n",
       "      <td>Online</td>\n",
       "      <td>18</td>\n",
       "      <td>Student</td>\n",
       "      <td>83</td>\n",
       "      <td>1</td>\n",
       "      <td>730.60</td>\n",
       "      <td>2024-11-04 08:06:00+00:00</td>\n",
       "    </tr>\n",
       "  </tbody>\n",
       "</table>\n",
       "</div>"
      ],
      "text/plain": [
       "  TransactionID AccountID  TransactionAmount           TransactionDate  \\\n",
       "0      TX000006   AC00393              92.15 2023-04-03 17:15:00+00:00   \n",
       "1      TX000413   AC00421             242.39 2023-11-20 16:29:00+00:00   \n",
       "2      TX000899   AC00083            1531.31 2023-10-23 18:00:00+00:00   \n",
       "3      TX002004   AC00388             248.76 2023-05-24 16:12:00+00:00   \n",
       "4      TX002102   AC00374              51.20 2023-03-13 18:45:00+00:00   \n",
       "\n",
       "  TransactionType       Location DeviceID      IP Address MerchantID Channel  \\\n",
       "0           Debit  Oklahoma City  D000579  117.67.192.211       M054     ATM   \n",
       "1          Credit    San Antonio  D000451   26.105.49.129       M008     ATM   \n",
       "2           Debit      San Diego  D000319  91.204.200.167       M078  Online   \n",
       "3           Debit         Denver  D000334     80.75.92.66       M091     ATM   \n",
       "4           Debit         Tucson  D000105    21.97.154.92       M066  Online   \n",
       "\n",
       "   CustomerAge CustomerOccupation  TransactionDuration  LoginAttempts  \\\n",
       "0           18            Student                  172              1   \n",
       "1           18            Student                  271              1   \n",
       "2           18            Student                   62              4   \n",
       "3           18            Student                   56              1   \n",
       "4           18            Student                   83              1   \n",
       "\n",
       "   AccountBalance   PreviousTransactionDate  \n",
       "0          781.68 2024-11-04 08:06:00+00:00  \n",
       "1         1328.73 2024-11-04 08:06:00+00:00  \n",
       "2          859.86 2024-11-04 08:06:00+00:00  \n",
       "3          546.46 2024-11-04 08:06:00+00:00  \n",
       "4          730.60 2024-11-04 08:06:00+00:00  "
      ]
     },
     "execution_count": 4,
     "metadata": {},
     "output_type": "execute_result"
    }
   ],
   "source": [
    "%%bigquery --use_rest_api --project customer-transaction-analysis\n",
    "SELECT * FROM `customer-transaction-analysis.customer_data.transactions`\n",
    "LIMIT 5;"
   ]
  },
  {
   "cell_type": "code",
   "execution_count": 6,
   "id": "3a6eaa11",
   "metadata": {},
   "outputs": [
    {
     "data": {
      "application/vnd.jupyter.widget-view+json": {
       "model_id": "603615ac5e9d42d3928915cfb3f8bc91",
       "version_major": 2,
       "version_minor": 0
      },
      "text/plain": [
       "Query is running:   0%|          |"
      ]
     },
     "metadata": {},
     "output_type": "display_data"
    },
    {
     "data": {
      "application/vnd.jupyter.widget-view+json": {
       "model_id": "a95af2a7e3da4a74b274f82080c03404",
       "version_major": 2,
       "version_minor": 0
      },
      "text/plain": [
       "Downloading:   0%|          |"
      ]
     },
     "metadata": {},
     "output_type": "display_data"
    },
    {
     "data": {
      "text/html": [
       "<div>\n",
       "<style scoped>\n",
       "    .dataframe tbody tr th:only-of-type {\n",
       "        vertical-align: middle;\n",
       "    }\n",
       "\n",
       "    .dataframe tbody tr th {\n",
       "        vertical-align: top;\n",
       "    }\n",
       "\n",
       "    .dataframe thead th {\n",
       "        text-align: right;\n",
       "    }\n",
       "</style>\n",
       "<table border=\"1\" class=\"dataframe\">\n",
       "  <thead>\n",
       "    <tr style=\"text-align: right;\">\n",
       "      <th></th>\n",
       "      <th>total_rows</th>\n",
       "      <th>null_transaction_id</th>\n",
       "      <th>null_amount</th>\n",
       "    </tr>\n",
       "  </thead>\n",
       "  <tbody>\n",
       "    <tr>\n",
       "      <th>0</th>\n",
       "      <td>2512</td>\n",
       "      <td>0</td>\n",
       "      <td>0</td>\n",
       "    </tr>\n",
       "  </tbody>\n",
       "</table>\n",
       "</div>"
      ],
      "text/plain": [
       "   total_rows  null_transaction_id  null_amount\n",
       "0        2512                    0            0"
      ]
     },
     "execution_count": 6,
     "metadata": {},
     "output_type": "execute_result"
    }
   ],
   "source": [
    "# confirm the total rows\n",
    "%%bigquery --use_rest_api --project customer-transaction-analysis\n",
    "SELECT \n",
    "  COUNT(*) AS total_rows,\n",
    "  COUNTIF(TransactionID IS NULL) AS null_transaction_id,\n",
    "  COUNTIF(TransactionAmount IS NULL) AS null_amount,\n",
    "  \n",
    "FROM customer-transaction-analysis.customer_data.transactions;\n"
   ]
  },
  {
   "cell_type": "code",
   "execution_count": 53,
   "id": "b2e4fb62",
   "metadata": {},
   "outputs": [
    {
     "name": "stdout",
     "output_type": "stream",
     "text": [
      "Downloading: 100%|\u001b[32m████████████████████████████████████████████████████████████████████████████████████████████████████\u001b[0m|\u001b[0m\n"
     ]
    }
   ],
   "source": [
    "# read into csv \n",
    "query = \"SELECT * FROM customer-transaction-analysis.customer_data.transactions\"\n",
    "df = read_gbq(query, project_id=\"customer-transaction-analysis\")"
   ]
  },
  {
   "cell_type": "code",
   "execution_count": 54,
   "id": "34bf829e",
   "metadata": {},
   "outputs": [
    {
     "data": {
      "text/html": [
       "<div>\n",
       "<style scoped>\n",
       "    .dataframe tbody tr th:only-of-type {\n",
       "        vertical-align: middle;\n",
       "    }\n",
       "\n",
       "    .dataframe tbody tr th {\n",
       "        vertical-align: top;\n",
       "    }\n",
       "\n",
       "    .dataframe thead th {\n",
       "        text-align: right;\n",
       "    }\n",
       "</style>\n",
       "<table border=\"1\" class=\"dataframe\">\n",
       "  <thead>\n",
       "    <tr style=\"text-align: right;\">\n",
       "      <th></th>\n",
       "      <th>TransactionID</th>\n",
       "      <th>AccountID</th>\n",
       "      <th>TransactionAmount</th>\n",
       "      <th>TransactionDate</th>\n",
       "      <th>TransactionType</th>\n",
       "      <th>Location</th>\n",
       "      <th>DeviceID</th>\n",
       "      <th>IP Address</th>\n",
       "      <th>MerchantID</th>\n",
       "      <th>Channel</th>\n",
       "      <th>CustomerAge</th>\n",
       "      <th>CustomerOccupation</th>\n",
       "      <th>TransactionDuration</th>\n",
       "      <th>LoginAttempts</th>\n",
       "      <th>AccountBalance</th>\n",
       "      <th>PreviousTransactionDate</th>\n",
       "    </tr>\n",
       "  </thead>\n",
       "  <tbody>\n",
       "    <tr>\n",
       "      <th>0</th>\n",
       "      <td>TX000006</td>\n",
       "      <td>AC00393</td>\n",
       "      <td>92.15</td>\n",
       "      <td>2023-04-03 17:15:00+00:00</td>\n",
       "      <td>Debit</td>\n",
       "      <td>Oklahoma City</td>\n",
       "      <td>D000579</td>\n",
       "      <td>117.67.192.211</td>\n",
       "      <td>M054</td>\n",
       "      <td>ATM</td>\n",
       "      <td>18</td>\n",
       "      <td>Student</td>\n",
       "      <td>172</td>\n",
       "      <td>1</td>\n",
       "      <td>781.68</td>\n",
       "      <td>2024-11-04 08:06:00+00:00</td>\n",
       "    </tr>\n",
       "    <tr>\n",
       "      <th>1</th>\n",
       "      <td>TX000413</td>\n",
       "      <td>AC00421</td>\n",
       "      <td>242.39</td>\n",
       "      <td>2023-11-20 16:29:00+00:00</td>\n",
       "      <td>Credit</td>\n",
       "      <td>San Antonio</td>\n",
       "      <td>D000451</td>\n",
       "      <td>26.105.49.129</td>\n",
       "      <td>M008</td>\n",
       "      <td>ATM</td>\n",
       "      <td>18</td>\n",
       "      <td>Student</td>\n",
       "      <td>271</td>\n",
       "      <td>1</td>\n",
       "      <td>1328.73</td>\n",
       "      <td>2024-11-04 08:06:00+00:00</td>\n",
       "    </tr>\n",
       "    <tr>\n",
       "      <th>2</th>\n",
       "      <td>TX000899</td>\n",
       "      <td>AC00083</td>\n",
       "      <td>1531.31</td>\n",
       "      <td>2023-10-23 18:00:00+00:00</td>\n",
       "      <td>Debit</td>\n",
       "      <td>San Diego</td>\n",
       "      <td>D000319</td>\n",
       "      <td>91.204.200.167</td>\n",
       "      <td>M078</td>\n",
       "      <td>Online</td>\n",
       "      <td>18</td>\n",
       "      <td>Student</td>\n",
       "      <td>62</td>\n",
       "      <td>4</td>\n",
       "      <td>859.86</td>\n",
       "      <td>2024-11-04 08:06:00+00:00</td>\n",
       "    </tr>\n",
       "    <tr>\n",
       "      <th>3</th>\n",
       "      <td>TX002004</td>\n",
       "      <td>AC00388</td>\n",
       "      <td>248.76</td>\n",
       "      <td>2023-05-24 16:12:00+00:00</td>\n",
       "      <td>Debit</td>\n",
       "      <td>Denver</td>\n",
       "      <td>D000334</td>\n",
       "      <td>80.75.92.66</td>\n",
       "      <td>M091</td>\n",
       "      <td>ATM</td>\n",
       "      <td>18</td>\n",
       "      <td>Student</td>\n",
       "      <td>56</td>\n",
       "      <td>1</td>\n",
       "      <td>546.46</td>\n",
       "      <td>2024-11-04 08:06:00+00:00</td>\n",
       "    </tr>\n",
       "    <tr>\n",
       "      <th>4</th>\n",
       "      <td>TX002102</td>\n",
       "      <td>AC00374</td>\n",
       "      <td>51.20</td>\n",
       "      <td>2023-03-13 18:45:00+00:00</td>\n",
       "      <td>Debit</td>\n",
       "      <td>Tucson</td>\n",
       "      <td>D000105</td>\n",
       "      <td>21.97.154.92</td>\n",
       "      <td>M066</td>\n",
       "      <td>Online</td>\n",
       "      <td>18</td>\n",
       "      <td>Student</td>\n",
       "      <td>83</td>\n",
       "      <td>1</td>\n",
       "      <td>730.60</td>\n",
       "      <td>2024-11-04 08:06:00+00:00</td>\n",
       "    </tr>\n",
       "  </tbody>\n",
       "</table>\n",
       "</div>"
      ],
      "text/plain": [
       "  TransactionID AccountID  TransactionAmount           TransactionDate  \\\n",
       "0      TX000006   AC00393              92.15 2023-04-03 17:15:00+00:00   \n",
       "1      TX000413   AC00421             242.39 2023-11-20 16:29:00+00:00   \n",
       "2      TX000899   AC00083            1531.31 2023-10-23 18:00:00+00:00   \n",
       "3      TX002004   AC00388             248.76 2023-05-24 16:12:00+00:00   \n",
       "4      TX002102   AC00374              51.20 2023-03-13 18:45:00+00:00   \n",
       "\n",
       "  TransactionType       Location DeviceID      IP Address MerchantID Channel  \\\n",
       "0           Debit  Oklahoma City  D000579  117.67.192.211       M054     ATM   \n",
       "1          Credit    San Antonio  D000451   26.105.49.129       M008     ATM   \n",
       "2           Debit      San Diego  D000319  91.204.200.167       M078  Online   \n",
       "3           Debit         Denver  D000334     80.75.92.66       M091     ATM   \n",
       "4           Debit         Tucson  D000105    21.97.154.92       M066  Online   \n",
       "\n",
       "   CustomerAge CustomerOccupation  TransactionDuration  LoginAttempts  \\\n",
       "0           18            Student                  172              1   \n",
       "1           18            Student                  271              1   \n",
       "2           18            Student                   62              4   \n",
       "3           18            Student                   56              1   \n",
       "4           18            Student                   83              1   \n",
       "\n",
       "   AccountBalance   PreviousTransactionDate  \n",
       "0          781.68 2024-11-04 08:06:00+00:00  \n",
       "1         1328.73 2024-11-04 08:06:00+00:00  \n",
       "2          859.86 2024-11-04 08:06:00+00:00  \n",
       "3          546.46 2024-11-04 08:06:00+00:00  \n",
       "4          730.60 2024-11-04 08:06:00+00:00  "
      ]
     },
     "execution_count": 54,
     "metadata": {},
     "output_type": "execute_result"
    }
   ],
   "source": [
    "# display first five rows from the table\n",
    "df.head()"
   ]
  },
  {
   "cell_type": "code",
   "execution_count": 55,
   "id": "9fffab00",
   "metadata": {},
   "outputs": [
    {
     "data": {
      "text/plain": [
       "(2512, 16)"
      ]
     },
     "execution_count": 55,
     "metadata": {},
     "output_type": "execute_result"
    }
   ],
   "source": [
    "df.shape"
   ]
  },
  {
   "cell_type": "code",
   "execution_count": 56,
   "id": "ebb24c2c",
   "metadata": {},
   "outputs": [
    {
     "data": {
      "text/plain": [
       "0"
      ]
     },
     "execution_count": 56,
     "metadata": {},
     "output_type": "execute_result"
    }
   ],
   "source": [
    "# check for duplicates\n",
    "df.duplicated().sum()"
   ]
  },
  {
   "cell_type": "code",
   "execution_count": 57,
   "id": "1acab540",
   "metadata": {},
   "outputs": [
    {
     "data": {
      "text/html": [
       "<div>\n",
       "<style scoped>\n",
       "    .dataframe tbody tr th:only-of-type {\n",
       "        vertical-align: middle;\n",
       "    }\n",
       "\n",
       "    .dataframe tbody tr th {\n",
       "        vertical-align: top;\n",
       "    }\n",
       "\n",
       "    .dataframe thead th {\n",
       "        text-align: right;\n",
       "    }\n",
       "</style>\n",
       "<table border=\"1\" class=\"dataframe\">\n",
       "  <thead>\n",
       "    <tr style=\"text-align: right;\">\n",
       "      <th></th>\n",
       "      <th>TransactionAmount</th>\n",
       "      <th>CustomerAge</th>\n",
       "      <th>TransactionDuration</th>\n",
       "      <th>LoginAttempts</th>\n",
       "      <th>AccountBalance</th>\n",
       "    </tr>\n",
       "  </thead>\n",
       "  <tbody>\n",
       "    <tr>\n",
       "      <th>count</th>\n",
       "      <td>2512.000000</td>\n",
       "      <td>2512.000000</td>\n",
       "      <td>2512.000000</td>\n",
       "      <td>2512.000000</td>\n",
       "      <td>2512.000000</td>\n",
       "    </tr>\n",
       "    <tr>\n",
       "      <th>mean</th>\n",
       "      <td>297.593778</td>\n",
       "      <td>44.673965</td>\n",
       "      <td>119.643312</td>\n",
       "      <td>1.124602</td>\n",
       "      <td>5114.302966</td>\n",
       "    </tr>\n",
       "    <tr>\n",
       "      <th>std</th>\n",
       "      <td>291.946243</td>\n",
       "      <td>17.792198</td>\n",
       "      <td>69.963757</td>\n",
       "      <td>0.602662</td>\n",
       "      <td>3900.942499</td>\n",
       "    </tr>\n",
       "    <tr>\n",
       "      <th>min</th>\n",
       "      <td>0.260000</td>\n",
       "      <td>18.000000</td>\n",
       "      <td>10.000000</td>\n",
       "      <td>1.000000</td>\n",
       "      <td>101.250000</td>\n",
       "    </tr>\n",
       "    <tr>\n",
       "      <th>25%</th>\n",
       "      <td>81.885000</td>\n",
       "      <td>27.000000</td>\n",
       "      <td>63.000000</td>\n",
       "      <td>1.000000</td>\n",
       "      <td>1504.370000</td>\n",
       "    </tr>\n",
       "    <tr>\n",
       "      <th>50%</th>\n",
       "      <td>211.140000</td>\n",
       "      <td>45.000000</td>\n",
       "      <td>112.500000</td>\n",
       "      <td>1.000000</td>\n",
       "      <td>4735.510000</td>\n",
       "    </tr>\n",
       "    <tr>\n",
       "      <th>75%</th>\n",
       "      <td>414.527500</td>\n",
       "      <td>59.000000</td>\n",
       "      <td>161.000000</td>\n",
       "      <td>1.000000</td>\n",
       "      <td>7678.820000</td>\n",
       "    </tr>\n",
       "    <tr>\n",
       "      <th>max</th>\n",
       "      <td>1919.110000</td>\n",
       "      <td>80.000000</td>\n",
       "      <td>300.000000</td>\n",
       "      <td>5.000000</td>\n",
       "      <td>14977.990000</td>\n",
       "    </tr>\n",
       "  </tbody>\n",
       "</table>\n",
       "</div>"
      ],
      "text/plain": [
       "       TransactionAmount  CustomerAge  TransactionDuration  LoginAttempts  \\\n",
       "count        2512.000000  2512.000000          2512.000000    2512.000000   \n",
       "mean          297.593778    44.673965           119.643312       1.124602   \n",
       "std           291.946243    17.792198            69.963757       0.602662   \n",
       "min             0.260000    18.000000            10.000000       1.000000   \n",
       "25%            81.885000    27.000000            63.000000       1.000000   \n",
       "50%           211.140000    45.000000           112.500000       1.000000   \n",
       "75%           414.527500    59.000000           161.000000       1.000000   \n",
       "max          1919.110000    80.000000           300.000000       5.000000   \n",
       "\n",
       "       AccountBalance  \n",
       "count     2512.000000  \n",
       "mean      5114.302966  \n",
       "std       3900.942499  \n",
       "min        101.250000  \n",
       "25%       1504.370000  \n",
       "50%       4735.510000  \n",
       "75%       7678.820000  \n",
       "max      14977.990000  "
      ]
     },
     "execution_count": 57,
     "metadata": {},
     "output_type": "execute_result"
    }
   ],
   "source": [
    "# Check data summary\n",
    "df.describe()"
   ]
  },
  {
   "cell_type": "code",
   "execution_count": 58,
   "id": "931792aa",
   "metadata": {},
   "outputs": [
    {
     "data": {
      "text/plain": [
       "TransactionID                           object\n",
       "AccountID                               object\n",
       "TransactionAmount                      float64\n",
       "TransactionDate            datetime64[ns, UTC]\n",
       "TransactionType                         object\n",
       "Location                                object\n",
       "DeviceID                                object\n",
       "IP Address                              object\n",
       "MerchantID                              object\n",
       "Channel                                 object\n",
       "CustomerAge                              Int64\n",
       "CustomerOccupation                      object\n",
       "TransactionDuration                      Int64\n",
       "LoginAttempts                            Int64\n",
       "AccountBalance                         float64\n",
       "PreviousTransactionDate    datetime64[ns, UTC]\n",
       "dtype: object"
      ]
     },
     "execution_count": 58,
     "metadata": {},
     "output_type": "execute_result"
    }
   ],
   "source": [
    "# check data types\n",
    "df.dtypes"
   ]
  },
  {
   "cell_type": "markdown",
   "id": "1ba91f43",
   "metadata": {},
   "source": [
    "# Transaction analysis"
   ]
  },
  {
   "cell_type": "markdown",
   "id": "50e82f94",
   "metadata": {},
   "source": [
    "### Amount"
   ]
  },
  {
   "cell_type": "code",
   "execution_count": 59,
   "id": "34d3f8f3",
   "metadata": {},
   "outputs": [
    {
     "data": {
      "text/plain": [
       "<AxesSubplot:xlabel='TransactionAmount'>"
      ]
     },
     "execution_count": 59,
     "metadata": {},
     "output_type": "execute_result"
    },
    {
     "data": {
      "image/png": "[encoded data removed]",
      "text/plain": [
       "<Figure size 432x288 with 1 Axes>"
      ]
     },
     "metadata": {
      "needs_background": "light"
     },
     "output_type": "display_data"
    }
   ],
   "source": [
    "# Transaction amount distribution\n",
    "\n",
    "sns.boxplot(x=df[\"TransactionAmount\"])"
   ]
  },
  {
   "cell_type": "code",
   "execution_count": 63,
   "id": "3825e3f9",
   "metadata": {},
   "outputs": [
    {
     "data": {
      "text/plain": [
       "(2008, 16)"
      ]
     },
     "execution_count": 63,
     "metadata": {},
     "output_type": "execute_result"
    }
   ],
   "source": [
    "#Remove outliers in transaction amount\n",
    "df[\"TransactionAmount\"].quantile([0.1, 0.9])\n",
    "df = df[df[\"TransactionAmount\"].between(low,high)]\n",
    "df.shape"
   ]
  },
  {
   "cell_type": "code",
   "execution_count": 66,
   "id": "10335981",
   "metadata": {},
   "outputs": [
    {
     "data": {
      "image/png": "[encoded data removed]",
      "text/plain": [
       "<Figure size 720x288 with 1 Axes>"
      ]
     },
     "metadata": {
      "needs_background": "light"
     },
     "output_type": "display_data"
    }
   ],
   "source": [
    "# Recheck distribution\n",
    "# Create figure and plot\n",
    "plt.figure(figsize=(10, 4))\n",
    "sns.boxplot(x=df[\"TransactionAmount\"], color=\"skyblue\")\n",
    "\n",
    "# Add title and axis labels\n",
    "plt.title(\"Distribution of Transaction Amounts\", fontsize=14)\n",
    "plt.xlabel(\"Transaction Amount\", fontsize=12)\n",
    "\n",
    "# Show the plot\n",
    "plt.show()\n"
   ]
  },
  {
   "cell_type": "code",
   "execution_count": 73,
   "id": "3d6e8b42",
   "metadata": {},
   "outputs": [
    {
     "data": {
      "text/plain": [
       "274     684.96\n",
       "581     686.17\n",
       "1975    688.36\n",
       "282     689.29\n",
       "779     689.54\n",
       "2353    691.92\n",
       "2434    692.55\n",
       "577     694.20\n",
       "2301    697.32\n",
       "457     697.82\n",
       "Name: TransactionAmount, dtype: float64"
      ]
     },
     "execution_count": 73,
     "metadata": {},
     "output_type": "execute_result"
    }
   ],
   "source": [
    "# show top 10 highest transactions\n",
    "df[\"TransactionAmount\"].sort_values().tail(10)\n"
   ]
  },
  {
   "cell_type": "markdown",
   "id": "92c37ade",
   "metadata": {},
   "source": [
    "### Date\n"
   ]
  },
  {
   "cell_type": "code",
   "execution_count": 74,
   "id": "af0f899f",
   "metadata": {},
   "outputs": [
    {
     "data": {
      "text/plain": [
       "datetime64[ns, UTC]"
      ]
     },
     "execution_count": 74,
     "metadata": {},
     "output_type": "execute_result"
    }
   ],
   "source": [
    "# confirm date data type\n",
    "df[\"TransactionDate\"].dtypes"
   ]
  },
  {
   "cell_type": "code",
   "execution_count": 86,
   "id": "12f66562",
   "metadata": {},
   "outputs": [
    {
     "data": {
      "image/png": "[encoded data removed]",
      "text/plain": [
       "<Figure size 720x432 with 1 Axes>"
      ]
     },
     "metadata": {
      "needs_background": "light"
     },
     "output_type": "display_data"
    }
   ],
   "source": [
    "# check Average transaction per year\n",
    "\n",
    "# Group by year and calculate average transaction amount\n",
    "avg_per_year = df.groupby(df[\"TransactionDate\"].dt.year)[\"TransactionAmount\"].mean()\n",
    "\n",
    "# Plot the bar chart\n",
    "plt.figure(figsize=(10, 6))\n",
    "avg_per_year.plot(kind=\"bar\")\n",
    "\n",
    "# Add title and labels\n",
    "plt.title(\"Average Transaction Amount Per Year\", fontsize=14)\n",
    "plt.xlabel(\"Year\", fontsize=12)\n",
    "plt.ylabel(\"Average Transaction Amount\", fontsize=12)\n",
    "\n",
    "plt.xticks(rotation=45)\n",
    "plt.tight_layout()\n",
    "plt.show()\n"
   ]
  },
  {
   "cell_type": "code",
   "execution_count": 126,
   "id": "7915bef3",
   "metadata": {},
   "outputs": [],
   "source": [
    "# Create a month column\n",
    "df[\"TransactionMonth\"] = df[\"TransactionDate\"].dt.month\n",
    "\n",
    "month_dict = {\n",
    "    \n",
    "    1:\"Jan\",\n",
    "    2:\"Feb\",\n",
    "    3:\"March\",\n",
    "    4:\"April\",\n",
    "    5:\"May\",\n",
    "    6:\"Jun\",\n",
    "    7:\"Jul\",\n",
    "    8:\"Aug\",\n",
    "    9:\"Sep\",\n",
    "    10:\"Oct\",\n",
    "    11:\"Nov\",\n",
    "    12:\"Dec\"\n",
    "}\n",
    "\n",
    "df[\"TransactionMonth\"] = df[\"TransactionMonth\"].map(month_dict)"
   ]
  },
  {
   "cell_type": "code",
   "execution_count": 156,
   "id": "6563f2c5",
   "metadata": {},
   "outputs": [
    {
     "data": {
      "image/png": "[encoded data removed]",
      "text/plain": [
       "<Figure size 720x432 with 1 Axes>"
      ]
     },
     "metadata": {
      "needs_background": "light"
     },
     "output_type": "display_data"
    }
   ],
   "source": [
    "# check Average transaction per month\n",
    "month_name_to_num = {v: k for k, v in month_dict.items()}\n",
    "avg_per_month[\"MonthNumber\"] = avg_per_month[\"TransactionMonth\"].map(month_name_to_num)\n",
    "\n",
    "# Group by year and calculate average transaction amount\n",
    "plt.figure(figsize=(10, 6))\n",
    "(avg_per_month\n",
    "    .set_index(\"TransactionMonth\")\n",
    "    .sort_values(\"MonthNumber\")[\"TransactionAmount\"]\n",
    "    .plot())\n",
    "\n",
    "plt.title(\"Average Transaction Amount Per Month\", fontsize=14)\n",
    "plt.xlabel(\"Month\", fontsize=12)\n",
    "plt.ylabel(\"Average Transaction Amount\", fontsize=12)\n",
    "plt.xticks(rotation=45)\n",
    "plt.tight_layout()\n",
    "plt.show()\n",
    "\n",
    "\n"
   ]
  },
  {
   "cell_type": "code",
   "execution_count": 174,
   "id": "67158405",
   "metadata": {},
   "outputs": [],
   "source": [
    "avg_per_day = df.groupby(df[\"TransactionDate\"].dt.day_name())[\"TransactionAmount\"].mean()"
   ]
  },
  {
   "cell_type": "code",
   "execution_count": 181,
   "id": "6b8745bc",
   "metadata": {},
   "outputs": [
    {
     "data": {
      "image/png": "[encoded data removed]",
      "text/plain": [
       "<Figure size 720x432 with 1 Axes>"
      ]
     },
     "metadata": {
      "needs_background": "light"
     },
     "output_type": "display_data"
    }
   ],
   "source": [
    "# check Average transaction per day\n",
    "\n",
    "# Group by year and calculate average transaction amount\n",
    "plt.figure(figsize=(10, 6))\n",
    "plt.plot(avg_per_day)\n",
    "\n",
    "plt.title(\"Average Transaction Amount Per Day\", fontsize=14)\n",
    "plt.xlabel(\"Day\", fontsize=12)\n",
    "plt.ylabel(\"Average Transaction Amount\", fontsize=12)\n",
    "plt.xticks(rotation=45)\n",
    "plt.tight_layout()\n",
    "plt.show()\n",
    "\n",
    "\n"
   ]
  },
  {
   "cell_type": "markdown",
   "id": "bf56fe3e",
   "metadata": {},
   "source": [
    "### Customers\n"
   ]
  },
  {
   "cell_type": "code",
   "execution_count": 236,
   "id": "be69518b",
   "metadata": {},
   "outputs": [],
   "source": [
    "# Top 10 customers with the most Transaction amount\n",
    "\n",
    "top_10 = df.groupby(\"AccountID\")[\"TransactionAmount\"].sum().sort_values().tail(10)"
   ]
  },
  {
   "cell_type": "code",
   "execution_count": 241,
   "id": "b15f2a5f",
   "metadata": {},
   "outputs": [
    {
     "data": {
      "image/png": "[encoded data removed]",
      "text/plain": [
       "<Figure size 720x432 with 1 Axes>"
      ]
     },
     "metadata": {
      "needs_background": "light"
     },
     "output_type": "display_data"
    }
   ],
   "source": [
    "#Plot top 10 #customers\n",
    "plt.figure(figsize=(10, 6))\n",
    "plt.bar(top_10.index, height=top_10.values  )\n",
    "for i,v in enumerate(top_20.values):\n",
    "    plt.text(i,v, f\"{round(v)}\", ha=\"center\", va=\"bottom\")\n",
    "plt.title(\"Top 10 customers with the most Transaction\", fontsize=14)\n",
    "plt.xlabel(\"AccountID\", fontsize=12)\n",
    "plt.ylabel(\"Total Transaction Amount\", fontsize=12)\n",
    "plt.xticks(rotation=45)\n",
    "plt.tight_layout()\n",
    "plt.show()"
   ]
  },
  {
   "cell_type": "code",
   "execution_count": 246,
   "id": "42fa4aa1",
   "metadata": {},
   "outputs": [
    {
     "data": {
      "image/png": "[encoded data removed]",
      "text/plain": [
       "<Figure size 720x432 with 1 Axes>"
      ]
     },
     "metadata": {
      "needs_background": "light"
     },
     "output_type": "display_data"
    }
   ],
   "source": [
    "# pattern by customer age\n",
    "plt.figure(figsize=(10, 6))\n",
    "plt.hist(df[\"CustomerAge\"])\n",
    "plt.title(\"Customers age distribution\", fontsize=14)\n",
    "plt.xlabel(\"Age\", fontsize=12)\n",
    "plt.xticks(rotation=45)\n",
    "plt.tight_layout()\n",
    "plt.show()"
   ]
  },
  {
   "cell_type": "code",
   "execution_count": 247,
   "id": "7bd9e7a8",
   "metadata": {},
   "outputs": [
    {
     "data": {
      "text/html": [
       "<div>\n",
       "<style scoped>\n",
       "    .dataframe tbody tr th:only-of-type {\n",
       "        vertical-align: middle;\n",
       "    }\n",
       "\n",
       "    .dataframe tbody tr th {\n",
       "        vertical-align: top;\n",
       "    }\n",
       "\n",
       "    .dataframe thead th {\n",
       "        text-align: right;\n",
       "    }\n",
       "</style>\n",
       "<table border=\"1\" class=\"dataframe\">\n",
       "  <thead>\n",
       "    <tr style=\"text-align: right;\">\n",
       "      <th></th>\n",
       "      <th>TransactionID</th>\n",
       "      <th>AccountID</th>\n",
       "      <th>TransactionAmount</th>\n",
       "      <th>TransactionDate</th>\n",
       "      <th>TransactionType</th>\n",
       "      <th>Location</th>\n",
       "      <th>DeviceID</th>\n",
       "      <th>IP Address</th>\n",
       "      <th>MerchantID</th>\n",
       "      <th>Channel</th>\n",
       "      <th>CustomerAge</th>\n",
       "      <th>CustomerOccupation</th>\n",
       "      <th>TransactionDuration</th>\n",
       "      <th>LoginAttempts</th>\n",
       "      <th>AccountBalance</th>\n",
       "      <th>PreviousTransactionDate</th>\n",
       "      <th>TransactionMonth</th>\n",
       "    </tr>\n",
       "  </thead>\n",
       "  <tbody>\n",
       "    <tr>\n",
       "      <th>0</th>\n",
       "      <td>TX000006</td>\n",
       "      <td>AC00393</td>\n",
       "      <td>92.15</td>\n",
       "      <td>2023-04-03 17:15:00+00:00</td>\n",
       "      <td>Debit</td>\n",
       "      <td>Oklahoma City</td>\n",
       "      <td>D000579</td>\n",
       "      <td>117.67.192.211</td>\n",
       "      <td>M054</td>\n",
       "      <td>ATM</td>\n",
       "      <td>18</td>\n",
       "      <td>Student</td>\n",
       "      <td>172</td>\n",
       "      <td>1</td>\n",
       "      <td>781.68</td>\n",
       "      <td>2024-11-04 08:06:00+00:00</td>\n",
       "      <td>April</td>\n",
       "    </tr>\n",
       "    <tr>\n",
       "      <th>1</th>\n",
       "      <td>TX000413</td>\n",
       "      <td>AC00421</td>\n",
       "      <td>242.39</td>\n",
       "      <td>2023-11-20 16:29:00+00:00</td>\n",
       "      <td>Credit</td>\n",
       "      <td>San Antonio</td>\n",
       "      <td>D000451</td>\n",
       "      <td>26.105.49.129</td>\n",
       "      <td>M008</td>\n",
       "      <td>ATM</td>\n",
       "      <td>18</td>\n",
       "      <td>Student</td>\n",
       "      <td>271</td>\n",
       "      <td>1</td>\n",
       "      <td>1328.73</td>\n",
       "      <td>2024-11-04 08:06:00+00:00</td>\n",
       "      <td>Nov</td>\n",
       "    </tr>\n",
       "    <tr>\n",
       "      <th>3</th>\n",
       "      <td>TX002004</td>\n",
       "      <td>AC00388</td>\n",
       "      <td>248.76</td>\n",
       "      <td>2023-05-24 16:12:00+00:00</td>\n",
       "      <td>Debit</td>\n",
       "      <td>Denver</td>\n",
       "      <td>D000334</td>\n",
       "      <td>80.75.92.66</td>\n",
       "      <td>M091</td>\n",
       "      <td>ATM</td>\n",
       "      <td>18</td>\n",
       "      <td>Student</td>\n",
       "      <td>56</td>\n",
       "      <td>1</td>\n",
       "      <td>546.46</td>\n",
       "      <td>2024-11-04 08:06:00+00:00</td>\n",
       "      <td>May</td>\n",
       "    </tr>\n",
       "    <tr>\n",
       "      <th>4</th>\n",
       "      <td>TX002102</td>\n",
       "      <td>AC00374</td>\n",
       "      <td>51.20</td>\n",
       "      <td>2023-03-13 18:45:00+00:00</td>\n",
       "      <td>Debit</td>\n",
       "      <td>Tucson</td>\n",
       "      <td>D000105</td>\n",
       "      <td>21.97.154.92</td>\n",
       "      <td>M066</td>\n",
       "      <td>Online</td>\n",
       "      <td>18</td>\n",
       "      <td>Student</td>\n",
       "      <td>83</td>\n",
       "      <td>1</td>\n",
       "      <td>730.60</td>\n",
       "      <td>2024-11-04 08:06:00+00:00</td>\n",
       "      <td>March</td>\n",
       "    </tr>\n",
       "    <tr>\n",
       "      <th>5</th>\n",
       "      <td>TX002127</td>\n",
       "      <td>AC00242</td>\n",
       "      <td>84.91</td>\n",
       "      <td>2023-10-16 18:38:00+00:00</td>\n",
       "      <td>Debit</td>\n",
       "      <td>Raleigh</td>\n",
       "      <td>D000667</td>\n",
       "      <td>141.201.46.191</td>\n",
       "      <td>M034</td>\n",
       "      <td>Online</td>\n",
       "      <td>18</td>\n",
       "      <td>Student</td>\n",
       "      <td>68</td>\n",
       "      <td>1</td>\n",
       "      <td>1671.86</td>\n",
       "      <td>2024-11-04 08:06:00+00:00</td>\n",
       "      <td>Oct</td>\n",
       "    </tr>\n",
       "  </tbody>\n",
       "</table>\n",
       "</div>"
      ],
      "text/plain": [
       "  TransactionID AccountID  TransactionAmount           TransactionDate  \\\n",
       "0      TX000006   AC00393              92.15 2023-04-03 17:15:00+00:00   \n",
       "1      TX000413   AC00421             242.39 2023-11-20 16:29:00+00:00   \n",
       "3      TX002004   AC00388             248.76 2023-05-24 16:12:00+00:00   \n",
       "4      TX002102   AC00374              51.20 2023-03-13 18:45:00+00:00   \n",
       "5      TX002127   AC00242              84.91 2023-10-16 18:38:00+00:00   \n",
       "\n",
       "  TransactionType       Location DeviceID      IP Address MerchantID Channel  \\\n",
       "0           Debit  Oklahoma City  D000579  117.67.192.211       M054     ATM   \n",
       "1          Credit    San Antonio  D000451   26.105.49.129       M008     ATM   \n",
       "3           Debit         Denver  D000334     80.75.92.66       M091     ATM   \n",
       "4           Debit         Tucson  D000105    21.97.154.92       M066  Online   \n",
       "5           Debit        Raleigh  D000667  141.201.46.191       M034  Online   \n",
       "\n",
       "   CustomerAge CustomerOccupation  TransactionDuration  LoginAttempts  \\\n",
       "0           18            Student                  172              1   \n",
       "1           18            Student                  271              1   \n",
       "3           18            Student                   56              1   \n",
       "4           18            Student                   83              1   \n",
       "5           18            Student                   68              1   \n",
       "\n",
       "   AccountBalance   PreviousTransactionDate TransactionMonth  \n",
       "0          781.68 2024-11-04 08:06:00+00:00            April  \n",
       "1         1328.73 2024-11-04 08:06:00+00:00              Nov  \n",
       "3          546.46 2024-11-04 08:06:00+00:00              May  \n",
       "4          730.60 2024-11-04 08:06:00+00:00            March  \n",
       "5         1671.86 2024-11-04 08:06:00+00:00              Oct  "
      ]
     },
     "execution_count": 247,
     "metadata": {},
     "output_type": "execute_result"
    }
   ],
   "source": [
    "df.head()\n"
   ]
  },
  {
   "cell_type": "markdown",
   "id": "a07773aa",
   "metadata": {},
   "source": [
    "# Exploratory Data Analysis"
   ]
  },
  {
   "cell_type": "code",
   "execution_count": 249,
   "id": "d98bc82e",
   "metadata": {},
   "outputs": [
    {
     "data": {
      "text/plain": [
       "TransactionDate            datetime64[ns, UTC]\n",
       "PreviousTransactionDate    datetime64[ns, UTC]\n",
       "dtype: object"
      ]
     },
     "execution_count": 249,
     "metadata": {},
     "output_type": "execute_result"
    }
   ],
   "source": [
    "# Create RFM table\n",
    "# first confirm data types of the date columns\n",
    "df[[\"TransactionDate\", \"PreviousTransactionDate\"]].dtypes"
   ]
  },
  {
   "cell_type": "code",
   "execution_count": 266,
   "id": "ec1fdfd8",
   "metadata": {},
   "outputs": [],
   "source": [
    "#Limit to only data in 2023\n",
    "df = df[df[\"TransactionDate\"].dt.year == 2023]"
   ]
  },
  {
   "cell_type": "code",
   "execution_count": 269,
   "id": "48cf14ec",
   "metadata": {},
   "outputs": [
    {
     "data": {
      "text/plain": [
       "Timestamp('2023-12-30 18:29:00+0000', tz='UTC')"
      ]
     },
     "execution_count": 269,
     "metadata": {},
     "output_type": "execute_result"
    }
   ],
   "source": [
    "# Calculate the most recent date and add an extra day\n",
    "today = df[\"TransactionDate\"].max() + pd.Timedelta(days=1)\n",
    "today"
   ]
  },
  {
   "cell_type": "code",
   "execution_count": 295,
   "id": "044b06b8",
   "metadata": {},
   "outputs": [
    {
     "data": {
      "text/html": [
       "<div>\n",
       "<style scoped>\n",
       "    .dataframe tbody tr th:only-of-type {\n",
       "        vertical-align: middle;\n",
       "    }\n",
       "\n",
       "    .dataframe tbody tr th {\n",
       "        vertical-align: top;\n",
       "    }\n",
       "\n",
       "    .dataframe thead th {\n",
       "        text-align: right;\n",
       "    }\n",
       "</style>\n",
       "<table border=\"1\" class=\"dataframe\">\n",
       "  <thead>\n",
       "    <tr style=\"text-align: right;\">\n",
       "      <th></th>\n",
       "      <th>AccountID</th>\n",
       "      <th>recency</th>\n",
       "    </tr>\n",
       "  </thead>\n",
       "  <tbody>\n",
       "    <tr>\n",
       "      <th>0</th>\n",
       "      <td>AC00001</td>\n",
       "      <td>46</td>\n",
       "    </tr>\n",
       "    <tr>\n",
       "      <th>1</th>\n",
       "      <td>AC00002</td>\n",
       "      <td>9</td>\n",
       "    </tr>\n",
       "    <tr>\n",
       "      <th>2</th>\n",
       "      <td>AC00003</td>\n",
       "      <td>88</td>\n",
       "    </tr>\n",
       "    <tr>\n",
       "      <th>3</th>\n",
       "      <td>AC00004</td>\n",
       "      <td>18</td>\n",
       "    </tr>\n",
       "    <tr>\n",
       "      <th>4</th>\n",
       "      <td>AC00005</td>\n",
       "      <td>26</td>\n",
       "    </tr>\n",
       "  </tbody>\n",
       "</table>\n",
       "</div>"
      ],
      "text/plain": [
       "  AccountID  recency\n",
       "0   AC00001       46\n",
       "1   AC00002        9\n",
       "2   AC00003       88\n",
       "3   AC00004       18\n",
       "4   AC00005       26"
      ]
     },
     "execution_count": 295,
     "metadata": {},
     "output_type": "execute_result"
    }
   ],
   "source": [
    "# Create the recency data frame\n",
    "recency_df = df.groupby(df[\"AccountID\"])[\"TransactionDate\"].max().reset_index()\n",
    "recency_df[\"recency\"] = (today - recency_df[\"TransactionDate\"]).dt.days\n",
    "recency_df.drop(columns=\"TransactionDate\", inplace=True)\n",
    "recency_df.head()"
   ]
  },
  {
   "cell_type": "code",
   "execution_count": 296,
   "id": "4f8d8e37",
   "metadata": {},
   "outputs": [
    {
     "data": {
      "text/html": [
       "<div>\n",
       "<style scoped>\n",
       "    .dataframe tbody tr th:only-of-type {\n",
       "        vertical-align: middle;\n",
       "    }\n",
       "\n",
       "    .dataframe tbody tr th {\n",
       "        vertical-align: top;\n",
       "    }\n",
       "\n",
       "    .dataframe thead th {\n",
       "        text-align: right;\n",
       "    }\n",
       "</style>\n",
       "<table border=\"1\" class=\"dataframe\">\n",
       "  <thead>\n",
       "    <tr style=\"text-align: right;\">\n",
       "      <th></th>\n",
       "      <th>AccountID</th>\n",
       "      <th>Frequency</th>\n",
       "    </tr>\n",
       "  </thead>\n",
       "  <tbody>\n",
       "    <tr>\n",
       "      <th>0</th>\n",
       "      <td>AC00001</td>\n",
       "      <td>2</td>\n",
       "    </tr>\n",
       "    <tr>\n",
       "      <th>1</th>\n",
       "      <td>AC00002</td>\n",
       "      <td>6</td>\n",
       "    </tr>\n",
       "    <tr>\n",
       "      <th>2</th>\n",
       "      <td>AC00003</td>\n",
       "      <td>4</td>\n",
       "    </tr>\n",
       "    <tr>\n",
       "      <th>3</th>\n",
       "      <td>AC00004</td>\n",
       "      <td>7</td>\n",
       "    </tr>\n",
       "    <tr>\n",
       "      <th>4</th>\n",
       "      <td>AC00005</td>\n",
       "      <td>9</td>\n",
       "    </tr>\n",
       "  </tbody>\n",
       "</table>\n",
       "</div>"
      ],
      "text/plain": [
       "  AccountID  Frequency\n",
       "0   AC00001          2\n",
       "1   AC00002          6\n",
       "2   AC00003          4\n",
       "3   AC00004          7\n",
       "4   AC00005          9"
      ]
     },
     "execution_count": 296,
     "metadata": {},
     "output_type": "execute_result"
    }
   ],
   "source": [
    "# Create the Frequency data frame\n",
    "frequency_df = df.groupby(df[\"AccountID\"])[\"TransactionID\"].count().reset_index()\n",
    "frequency_df[\"Frequency\"] = frequency_df[\"TransactionID\"]\n",
    "frequency_df.drop(columns=[\"TransactionID\"], inplace=True)\n",
    "frequency_df.head()"
   ]
  },
  {
   "cell_type": "code",
   "execution_count": 297,
   "id": "a0669b6a",
   "metadata": {},
   "outputs": [
    {
     "data": {
      "text/html": [
       "<div>\n",
       "<style scoped>\n",
       "    .dataframe tbody tr th:only-of-type {\n",
       "        vertical-align: middle;\n",
       "    }\n",
       "\n",
       "    .dataframe tbody tr th {\n",
       "        vertical-align: top;\n",
       "    }\n",
       "\n",
       "    .dataframe thead th {\n",
       "        text-align: right;\n",
       "    }\n",
       "</style>\n",
       "<table border=\"1\" class=\"dataframe\">\n",
       "  <thead>\n",
       "    <tr style=\"text-align: right;\">\n",
       "      <th></th>\n",
       "      <th>AccountID</th>\n",
       "      <th>Monetary</th>\n",
       "    </tr>\n",
       "  </thead>\n",
       "  <tbody>\n",
       "    <tr>\n",
       "      <th>0</th>\n",
       "      <td>AC00001</td>\n",
       "      <td>260.76</td>\n",
       "    </tr>\n",
       "    <tr>\n",
       "      <th>1</th>\n",
       "      <td>AC00002</td>\n",
       "      <td>2043.59</td>\n",
       "    </tr>\n",
       "    <tr>\n",
       "      <th>2</th>\n",
       "      <td>AC00003</td>\n",
       "      <td>1246.17</td>\n",
       "    </tr>\n",
       "    <tr>\n",
       "      <th>3</th>\n",
       "      <td>AC00004</td>\n",
       "      <td>2126.26</td>\n",
       "    </tr>\n",
       "    <tr>\n",
       "      <th>4</th>\n",
       "      <td>AC00005</td>\n",
       "      <td>3131.77</td>\n",
       "    </tr>\n",
       "  </tbody>\n",
       "</table>\n",
       "</div>"
      ],
      "text/plain": [
       "  AccountID  Monetary\n",
       "0   AC00001    260.76\n",
       "1   AC00002   2043.59\n",
       "2   AC00003   1246.17\n",
       "3   AC00004   2126.26\n",
       "4   AC00005   3131.77"
      ]
     },
     "execution_count": 297,
     "metadata": {},
     "output_type": "execute_result"
    }
   ],
   "source": [
    "# Create the Frequency data frame\n",
    "monetary_df = df.groupby('AccountID')['TransactionAmount'].sum().reset_index()\n",
    "monetary_df.rename(columns={'TransactionAmount': 'Monetary'}, inplace=True)\n",
    "monetary_df.head()"
   ]
  },
  {
   "cell_type": "code",
   "execution_count": 301,
   "id": "aaa89389",
   "metadata": {},
   "outputs": [
    {
     "data": {
      "text/html": [
       "<div>\n",
       "<style scoped>\n",
       "    .dataframe tbody tr th:only-of-type {\n",
       "        vertical-align: middle;\n",
       "    }\n",
       "\n",
       "    .dataframe tbody tr th {\n",
       "        vertical-align: top;\n",
       "    }\n",
       "\n",
       "    .dataframe thead th {\n",
       "        text-align: right;\n",
       "    }\n",
       "</style>\n",
       "<table border=\"1\" class=\"dataframe\">\n",
       "  <thead>\n",
       "    <tr style=\"text-align: right;\">\n",
       "      <th></th>\n",
       "      <th>AccountID</th>\n",
       "      <th>recency</th>\n",
       "      <th>Frequency</th>\n",
       "      <th>Monetary</th>\n",
       "    </tr>\n",
       "  </thead>\n",
       "  <tbody>\n",
       "    <tr>\n",
       "      <th>0</th>\n",
       "      <td>AC00001</td>\n",
       "      <td>46</td>\n",
       "      <td>2</td>\n",
       "      <td>260.76</td>\n",
       "    </tr>\n",
       "    <tr>\n",
       "      <th>1</th>\n",
       "      <td>AC00002</td>\n",
       "      <td>9</td>\n",
       "      <td>6</td>\n",
       "      <td>2043.59</td>\n",
       "    </tr>\n",
       "    <tr>\n",
       "      <th>2</th>\n",
       "      <td>AC00003</td>\n",
       "      <td>88</td>\n",
       "      <td>4</td>\n",
       "      <td>1246.17</td>\n",
       "    </tr>\n",
       "    <tr>\n",
       "      <th>3</th>\n",
       "      <td>AC00004</td>\n",
       "      <td>18</td>\n",
       "      <td>7</td>\n",
       "      <td>2126.26</td>\n",
       "    </tr>\n",
       "    <tr>\n",
       "      <th>4</th>\n",
       "      <td>AC00005</td>\n",
       "      <td>26</td>\n",
       "      <td>9</td>\n",
       "      <td>3131.77</td>\n",
       "    </tr>\n",
       "  </tbody>\n",
       "</table>\n",
       "</div>"
      ],
      "text/plain": [
       "  AccountID  recency  Frequency  Monetary\n",
       "0   AC00001       46          2    260.76\n",
       "1   AC00002        9          6   2043.59\n",
       "2   AC00003       88          4   1246.17\n",
       "3   AC00004       18          7   2126.26\n",
       "4   AC00005       26          9   3131.77"
      ]
     },
     "execution_count": 301,
     "metadata": {},
     "output_type": "execute_result"
    }
   ],
   "source": [
    "rfm = recency_df.merge(frequency_df, on=\"AccountID\").merge(monetary_df, on=\"AccountID\")\n",
    "rfm.head()"
   ]
  },
  {
   "cell_type": "markdown",
   "id": "708af3b2",
   "metadata": {},
   "source": [
    "# Exploratory Data Analysis on RFM table"
   ]
  },
  {
   "cell_type": "code",
   "execution_count": 312,
   "id": "838c1903",
   "metadata": {},
   "outputs": [
    {
     "data": {
      "image/png": "[encoded data removed]",
      "text/plain": [
       "<Figure size 720x432 with 1 Axes>"
      ]
     },
     "metadata": {
      "needs_background": "light"
     },
     "output_type": "display_data"
    }
   ],
   "source": [
    "# Check Recency distribution using boxplot\n",
    "plt.subplots(figsize=(10,6))\n",
    "sns.boxplot(rfm[\"recency\"])\n",
    "plt.title(\"Recency Distribution\")\n",
    "plt.show()"
   ]
  },
  {
   "cell_type": "code",
   "execution_count": 311,
   "id": "7a96ff21",
   "metadata": {},
   "outputs": [
    {
     "data": {
      "image/png": "[encoded data removed]",
      "text/plain": [
       "<Figure size 720x432 with 1 Axes>"
      ]
     },
     "metadata": {
      "needs_background": "light"
     },
     "output_type": "display_data"
    }
   ],
   "source": [
    "# Check Frequency distribution using boxplot\n",
    "plt.subplots(figsize=(10,6))\n",
    "sns.boxplot(rfm[\"Frequency\"])\n",
    "plt.title(\"Frequency Distribution\")\n",
    "plt.show()"
   ]
  },
  {
   "cell_type": "code",
   "execution_count": 310,
   "id": "0fc83f36",
   "metadata": {
    "scrolled": false
   },
   "outputs": [
    {
     "data": {
      "image/png": "[encoded data removed]",
      "text/plain": [
       "<Figure size 720x432 with 1 Axes>"
      ]
     },
     "metadata": {
      "needs_background": "light"
     },
     "output_type": "display_data"
    }
   ],
   "source": [
    "# Check Monetary distribution using boxplot\n",
    "plt.subplots(figsize=(10,6))\n",
    "sns.boxplot(rfm[\"Monetary\"])\n",
    "plt.title(\"Frequency Distribution\")\n",
    "plt.show()"
   ]
  },
  {
   "cell_type": "code",
   "execution_count": 313,
   "id": "9125c6fa",
   "metadata": {},
   "outputs": [
    {
     "name": "stdout",
     "output_type": "stream",
     "text": [
      "<class 'pandas.core.frame.DataFrame'>\n",
      "Int64Index: 492 entries, 0 to 491\n",
      "Data columns (total 4 columns):\n",
      " #   Column     Non-Null Count  Dtype  \n",
      "---  ------     --------------  -----  \n",
      " 0   AccountID  492 non-null    object \n",
      " 1   recency    492 non-null    int64  \n",
      " 2   Frequency  492 non-null    int64  \n",
      " 3   Monetary   492 non-null    float64\n",
      "dtypes: float64(1), int64(2), object(1)\n",
      "memory usage: 19.2+ KB\n"
     ]
    }
   ],
   "source": [
    "rfm.info()"
   ]
  },
  {
   "cell_type": "code",
   "execution_count": 314,
   "id": "8a871c07",
   "metadata": {},
   "outputs": [
    {
     "data": {
      "text/html": [
       "<div>\n",
       "<style scoped>\n",
       "    .dataframe tbody tr th:only-of-type {\n",
       "        vertical-align: middle;\n",
       "    }\n",
       "\n",
       "    .dataframe tbody tr th {\n",
       "        vertical-align: top;\n",
       "    }\n",
       "\n",
       "    .dataframe thead th {\n",
       "        text-align: right;\n",
       "    }\n",
       "</style>\n",
       "<table border=\"1\" class=\"dataframe\">\n",
       "  <thead>\n",
       "    <tr style=\"text-align: right;\">\n",
       "      <th></th>\n",
       "      <th>recency</th>\n",
       "      <th>Frequency</th>\n",
       "      <th>Monetary</th>\n",
       "    </tr>\n",
       "  </thead>\n",
       "  <tbody>\n",
       "    <tr>\n",
       "      <th>count</th>\n",
       "      <td>492.000000</td>\n",
       "      <td>492.000000</td>\n",
       "      <td>492.000000</td>\n",
       "    </tr>\n",
       "    <tr>\n",
       "      <th>mean</th>\n",
       "      <td>82.678862</td>\n",
       "      <td>4.058943</td>\n",
       "      <td>1008.459126</td>\n",
       "    </tr>\n",
       "    <tr>\n",
       "      <th>std</th>\n",
       "      <td>77.737682</td>\n",
       "      <td>1.985328</td>\n",
       "      <td>590.258415</td>\n",
       "    </tr>\n",
       "    <tr>\n",
       "      <th>min</th>\n",
       "      <td>1.000000</td>\n",
       "      <td>1.000000</td>\n",
       "      <td>35.980000</td>\n",
       "    </tr>\n",
       "    <tr>\n",
       "      <th>25%</th>\n",
       "      <td>26.000000</td>\n",
       "      <td>3.000000</td>\n",
       "      <td>556.040000</td>\n",
       "    </tr>\n",
       "    <tr>\n",
       "      <th>50%</th>\n",
       "      <td>58.000000</td>\n",
       "      <td>4.000000</td>\n",
       "      <td>944.370000</td>\n",
       "    </tr>\n",
       "    <tr>\n",
       "      <th>75%</th>\n",
       "      <td>116.250000</td>\n",
       "      <td>5.000000</td>\n",
       "      <td>1348.395000</td>\n",
       "    </tr>\n",
       "    <tr>\n",
       "      <th>max</th>\n",
       "      <td>361.000000</td>\n",
       "      <td>11.000000</td>\n",
       "      <td>3716.460000</td>\n",
       "    </tr>\n",
       "  </tbody>\n",
       "</table>\n",
       "</div>"
      ],
      "text/plain": [
       "          recency   Frequency     Monetary\n",
       "count  492.000000  492.000000   492.000000\n",
       "mean    82.678862    4.058943  1008.459126\n",
       "std     77.737682    1.985328   590.258415\n",
       "min      1.000000    1.000000    35.980000\n",
       "25%     26.000000    3.000000   556.040000\n",
       "50%     58.000000    4.000000   944.370000\n",
       "75%    116.250000    5.000000  1348.395000\n",
       "max    361.000000   11.000000  3716.460000"
      ]
     },
     "execution_count": 314,
     "metadata": {},
     "output_type": "execute_result"
    }
   ],
   "source": [
    "rfm.describe()"
   ]
  },
  {
   "cell_type": "code",
   "execution_count": 322,
   "id": "1113dc11",
   "metadata": {},
   "outputs": [
    {
     "data": {
      "image/png": "[encoded data removed]",
      "text/plain": [
       "<Figure size 1080x432 with 4 Axes>"
      ]
     },
     "metadata": {
      "needs_background": "light"
     },
     "output_type": "display_data"
    }
   ],
   "source": [
    "rfm.hist(figsize=(15, 6))\n",
    "plt.show()"
   ]
  },
  {
   "cell_type": "markdown",
   "id": "2a674b73",
   "metadata": {},
   "source": [
    "# KMeans Modelling"
   ]
  },
  {
   "cell_type": "code",
   "execution_count": null,
   "id": "680b9ca2",
   "metadata": {},
   "outputs": [],
   "source": []
  }
 ],
 "metadata": {
  "kernelspec": {
   "display_name": "Python 3",
   "language": "python",
   "name": "python3"
  },
  "language_info": {
   "codemirror_mode": {
    "name": "ipython",
    "version": 3
   },
   "file_extension": ".py",
   "mimetype": "text/x-python",
   "name": "python",
   "nbconvert_exporter": "python",
   "pygments_lexer": "ipython3",
   "version": "3.8.8"
  }
 },
 "nbformat": 4,
 "nbformat_minor": 5
}
